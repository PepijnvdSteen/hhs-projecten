{
 "cells": [
  {
   "cell_type": "markdown",
   "metadata": {},
   "source": [
    "NorthWind Connection"
   ]
  },
  {
   "cell_type": "code",
   "execution_count": null,
   "metadata": {},
   "outputs": [],
   "source": [
    "import pyodbc\n",
    "import pandas as pd\n",
    "\n",
    "def readTable(tableName):\n",
    "  return pd.read_sql((\"SELECT * FROM {};\".format(tableName)), conn)\n",
    "\n",
    "conn = pyodbc.connect('DRIVER={SQL Server};SERVER=DESKTOP-26VG8Q3;DATABASE=''NorthWind'';Trusted_Connection=yes')\n",
    "\n",
    "categories = readTable(\"Categories\")\n",
    "northwind_customers = readTable(\"Customers\")\n",
    "northwind_employees = readTable(\"Employees\")\n",
    "employeeTerritories = readTable(\"EmployeeTerritories\")\n",
    "orderDetails = readTable(\"[Order Details]\")\n",
    "orders = readTable(\"Orders\")\n",
    "northwind_products = readTable(\"Products\")\n",
    "region = readTable(\"Region\")\n",
    "shippers = readTable(\"Shippers\")\n",
    "suppliers = readTable(\"Suppliers\")\n",
    "territories = readTable(\"Territories\")\n"
   ]
  },
  {
   "cell_type": "markdown",
   "metadata": {},
   "source": [
    "NorthWind Merges"
   ]
  },
  {
   "cell_type": "code",
   "execution_count": 136,
   "metadata": {},
   "outputs": [],
   "source": [
    "northwind_employees = pd.merge(northwind_employees, pd.merge(employeeTerritories, pd.merge(territories, region, how='left', on='RegionID'), how='left', on='TerritoryID'), how='left', on='EmployeeID')\n",
    "shippers = shippers\n",
    "northwind_product = pd.merge(northwind_products, suppliers, how='left', on='SupplierID')\n",
    "northwind_product = pd.merge(northwind_product, categories, how='left', on='CategoryID')\n",
    "northwind_customers = northwind_customers\n",
    "orderDetails = orderDetails\n",
    "orders = pd.merge(orders, orderDetails, how='left', on='OrderID')"
   ]
  },
  {
   "cell_type": "markdown",
   "metadata": {},
   "source": [
    "AENC Connection"
   ]
  },
  {
   "cell_type": "code",
   "execution_count": 138,
   "metadata": {},
   "outputs": [],
   "source": [
    "import pandas as pd\n",
    "import sqlite3\n",
    "import pyodbc\n",
    "import numpy as np\n",
    "\n",
    "conn = sqlite3.connect(\"C:\\\\Users\\\\Nick\\\\Desktop\\\\school\\\\AENC.sqlite\")\n",
    "\n",
    "bonus = pd.read_sql_query(\"SELECT * from bonus\", conn)\n",
    "AENC_customer = pd.read_sql_query(\"SELECT * from customer\", conn)\n",
    "department = pd.read_sql_query(\"SELECT * from department\", conn)\n",
    "AENC_employee = pd.read_sql_query(\"SELECT * from employee\", conn)\n",
    "AENC_product = pd.read_sql_query(\"SELECT * from product\", conn)\n",
    "region = pd.read_sql_query(\"SELECT * from region\", conn)\n",
    "sales_order = pd.read_sql_query(\"SELECT * from sales_order\", conn)\n",
    "sales_order_item = pd.read_sql_query(\"SELECT * from sales_order_item\", conn)\n",
    "state = pd.read_sql_query(\"SELECT * from state\", conn)"
   ]
  },
  {
   "cell_type": "code",
   "execution_count": 139,
   "metadata": {},
   "outputs": [],
   "source": [
    "AENC_employee = pd.merge(AENC_employee, department, how='left', on='dept_id')\n",
    "AENC_employee = pd.merge(AENC_employee, state, how='left', left_on='state', right_on='state_id')\n",
    "AENC_product = AENC_product\n",
    "AENC_customer = pd.merge(AENC_customer, pd.merge(state, region, how='left', on='region'), how='left', left_on='state', right_on='state_id')\n",
    "bonus = bonus\n",
    "sales_order = pd.merge(sales_order, sales_order_item, how='left', on='id')"
   ]
  },
  {
   "cell_type": "markdown",
   "metadata": {},
   "source": [
    "AdventureWorks2019 Connection"
   ]
  },
  {
   "cell_type": "code",
   "execution_count": 122,
   "metadata": {},
   "outputs": [
    {
     "name": "stderr",
     "output_type": "stream",
     "text": [
      "C:\\Users\\Nick\\AppData\\Local\\Temp\\ipykernel_18200\\2841543629.py:5: UserWarning: pandas only supports SQLAlchemy connectable (engine/connection) or database string URI or sqlite3 DBAPI2 connection. Other DBAPI2 objects are not tested. Please consider using SQLAlchemy.\n",
      "  return pd.read_sql((\"SELECT * FROM {};\".format(tableName)), conn)\n"
     ]
    }
   ],
   "source": [
    "import pyodbc\n",
    "import pandas as pd\n",
    "\n",
    "def readTable(tableName):\n",
    "  return pd.read_sql((\"SELECT * FROM {};\".format(tableName)), conn)\n",
    "\n",
    "# Establish a database connection using Windows Authentication\n",
    "conn = pyodbc.connect('DRIVER={SQL Server};SERVER=DESKTOP-26VG8Q3;DATABASE=''AdventureWorks2019'';Trusted_Connection=yes')\n",
    "\n",
    "department = readTable(\"HumanResources.Department\")\n",
    "AdventureWorks_employee = readTable(\"HumanResources.Employee\")\n",
    "employeeDepartmentHistory = readTable(\"HumanResources.EmployeeDepartmentHistory\")\n",
    "employeePayHistory = readTable(\"HumanResources.EmployeePayHistory\")\n",
    "jobCandidate = readTable(\"HumanResources.JobCandidate\")\n",
    "shift = readTable(\"HumanResources.Shift\")\n",
    "\n",
    "address = readTable(\"Person.Address\")\n",
    "addressType = readTable(\"Person.AddressType\")\n",
    "businessEntity = readTable(\"Person.BusinessEntity\")\n",
    "businessEntityAddress = readTable(\"Person.BusinessEntityAddress\")\n",
    "businessEntityContact = readTable(\"Person.BusinessEntityContact\")\n",
    "contactType = readTable(\"Person.ContactType\")\n",
    "countryRegion = readTable(\"Person.CountryRegion\")\n",
    "emailAddress = readTable(\"Person.EmailAddress\")\n",
    "person = readTable(\"Person.Person\")\n",
    "personPhone = readTable(\"Person.PersonPhone\")\n",
    "phoneNumberType = readTable(\"Person.PhoneNumberType\")\n",
    "stateProvince = readTable(\"Person.StateProvince\")\n",
    "password = readTable(\"Person.Password\")\n",
    "\n",
    "billOfMaterials = readTable(\"Production.BillOfMaterials\")\n",
    "culture = readTable(\"Production.Culture\")\n",
    "document = readTable(\"Production.Document\")\n",
    "illustration = readTable(\"Production.Illustration\")\n",
    "location = readTable(\"Production.Location\")\n",
    "Adventureworks_product = readTable(\"Production.Product\")\n",
    "productCategory = readTable(\"Production.ProductCategory\")\n",
    "productCostHistory = readTable(\"Production.ProductCostHistory\")\n",
    "productDescription = readTable(\"Production.ProductDescription\")\n",
    "productDocument = readTable(\"Production.ProductDocument\")\n",
    "productInventory = readTable(\"Production.ProductInventory\")\n",
    "productListPriceHistroy = readTable(\"Production.ProductListPriceHistory\")\n",
    "productModelProductDescriptionCulture = readTable(\"Production.ProductModelProductDescriptionCulture\")\n",
    "productPhoto = readTable(\"Production.ProductPhoto\")\n",
    "productProductPhoto = readTable(\"Production.ProductProductPhoto\")\n",
    "productReview = readTable(\"Production.ProductReview\")\n",
    "productSubcategory = readTable(\"Production.ProductSubcategory\")\n",
    "scrapReason = readTable(\"Production.ScrapReason\")\n",
    "transactionHistory = readTable(\"Production.TransactionHistory\")\n",
    "transactionHistoryArchive = readTable(\"Production.TransactionHistoryArchive\")\n",
    "unitMeasure = readTable(\"Production.UnitMeasure\")\n",
    "workOrder = readTable(\"Production.WorkOrder\")\n",
    "workOrderRouting = readTable(\"Production.WorkOrderRouting\")\n",
    "productModelIllustration = readTable(\"Production.ProductModelIllustration\")\n",
    "productModel = readTable(\"Production.ProductModel\")\n",
    "\n",
    "productVendor = readTable(\"Purchasing.ProductVendor\")\n",
    "purchaseOrderDetail = readTable(\"Purchasing.PurchaseOrderDetail\")\n",
    "purchaseOrderHeader = readTable(\"Purchasing.PurchaseOrderHeader\")\n",
    "shipMethod = readTable(\"Purchasing.ShipMethod\")\n",
    "vendor = readTable(\"Purchasing.Vendor\")\n",
    "\n",
    "countryRegionCurrency = readTable(\"Sales.CountryRegionCurrency\")\n",
    "creditCard = readTable(\"Sales.CreditCard\")\n",
    "currency = readTable(\"Sales.Currency\")\n",
    "currencyRate = readTable(\"Sales.CurrencyRate\")\n",
    "customer = readTable(\"Sales.Customer\")\n",
    "personalCreditCard = readTable(\"Sales.PersonCreditCard\")\n",
    "salesOrderDetail = readTable(\"Sales.SalesOrderDetail\")\n",
    "salesOrderHeader = readTable(\"Sales.SalesOrderHeader\")\n",
    "salesOrderHeaderSalesReason = readTable(\"Sales.SalesOrderHeaderSalesReason\")\n",
    "salesPerson = readTable(\"Sales.SalesPerson\")\n",
    "salesPersonQuotaHistory = readTable(\"Sales.SalesPersonQuotaHistory\")\n",
    "salesReason = readTable(\"Sales.SalesReason\")\n",
    "salesTaxRate = readTable(\"Sales.SalesTaxRate\")\n",
    "salesTerritory = readTable(\"Sales.SalesTerritory\")\n",
    "salesTerritoryHistory = readTable(\"Sales.SalesTerritoryHistory\")\n",
    "shippingCartItem = readTable(\"Sales.ShoppingCartItem\")\n",
    "specialOffer = readTable(\"Sales.SpecialOffer\")\n",
    "specialOfferProduct = readTable(\"Sales.SpecialOfferProduct\")\n",
    "store = readTable(\"Sales.Store\")"
   ]
  },
  {
   "cell_type": "markdown",
   "metadata": {},
   "source": [
    "AdventureWorks2019_Person Merges\n"
   ]
  },
  {
   "cell_type": "code",
   "execution_count": 78,
   "metadata": {},
   "outputs": [],
   "source": [
    "personPhone = pd.merge(personPhone, phoneNumberType, on='PhoneNumberTypeID').drop(\"ModifiedDate_x\",  axis='columns').drop(\"ModifiedDate_y\",  axis='columns')\n",
    "person = person\n",
    "password = password\n",
    "emailAddress = emailAddress\n",
    "businessEntityContact = pd.merge(businessEntityContact, contactType, on='ContactTypeID').drop(\"ModifiedDate_x\",  axis='columns').drop(\"ModifiedDate_y\",  axis='columns')\n",
    "businessEntity = businessEntity\n",
    "businessEntityAddress = businessEntityAddress\n",
    "addressType = addressType\n",
    "address = address\n",
    "countryRegion = countryRegion\n",
    "stateProvince = stateProvince\n"
   ]
  },
  {
   "cell_type": "markdown",
   "metadata": {},
   "source": [
    "AdventureWorks2019_HumanResources Merges\n"
   ]
  },
  {
   "cell_type": "code",
   "execution_count": null,
   "metadata": {},
   "outputs": [],
   "source": [
    "AdventureWorks_employee = AdventureWorks_employee\n",
    "employeeDepartmentHistory = employeeDepartmentHistory\n",
    "employeeDepartmentHistory = employeeDepartmentHistory\n",
    "department = department\n",
    "shift = shift\n",
    "jobCandidate = jobCandidate"
   ]
  },
  {
   "cell_type": "markdown",
   "metadata": {},
   "source": [
    "AdventureWorks_2019_Purchasing Merges\n"
   ]
  },
  {
   "cell_type": "code",
   "execution_count": 81,
   "metadata": {},
   "outputs": [],
   "source": [
    "vendor = pd.merge(productVendor, vendor, on='BusinessEntityID')\n",
    "vendor = pd.merge(vendor, unitMeasure, on='UnitMeasureCode').drop(\"ModifiedDate_x\",  axis='columns').drop(\"ModifiedDate_y\",  axis='columns').drop(\"ModifiedDate\", axis='columns')\n",
    "vendor.rename(columns = {'Name_x':'VendorName', 'Name_y':'UnitMeasureName'}, inplace = True)\n",
    "\n",
    "shipMethod = shipMethod\n",
    "purchaseOrderHeader = pd.merge(purchaseOrderHeader, purchaseOrderDetail, on='PurchaseOrderID')\n"
   ]
  },
  {
   "cell_type": "markdown",
   "metadata": {},
   "source": [
    "AdventureWorks_2019_Production Merges\n"
   ]
  },
  {
   "cell_type": "code",
   "execution_count": 120,
   "metadata": {},
   "outputs": [],
   "source": [
    "productModel_merge = pd.merge(productModelIllustration, illustration, on='IllustrationID')\n",
    "productModel_merge = pd.merge(productModel_merge, productModel, on='ProductModelID').drop(\"ModifiedDate_x\",  axis='columns').drop(\"ModifiedDate_y\",  axis='columns').drop(\"ModifiedDate\", axis='columns')\n",
    "\n",
    "product_merge = pd.merge(Adventureworks_product, unitMeasure, how='left', left_on='SizeUnitMeasureCode', right_on='UnitMeasureCode')\n",
    "product_merge.rename(columns = {'Name_x':'ProductName', 'Name_y':'SizeUnitMeasureName', 'UnitMeasureCode':'SizeUnitMeasureCode'},  inplace = True)\n",
    "\n",
    "product_merge = pd.merge(product_merge, unitMeasure, how='left', left_on='WeightUnitMeasureCode', right_on='UnitMeasureCode')\n",
    "product_merge.rename(columns = {'Name':'WeightUnitMeasureName', 'UnitMeasureCode':'WeightUnitMeasureCode'},  inplace = True)\n",
    "\n",
    "product_merge = pd.merge(product_merge, pd.merge(productSubcategory, productCategory, on='ProductCategoryID'), on='ProductSubcategoryID').drop(\"ModifiedDate_x_y\",  axis='columns').drop(\"ModifiedDate_y_y\",  axis='columns').drop(\"ModifiedDate\", axis='columns').drop(\"ModifiedDate_y_x\", axis='columns').drop(\"ModifiedDate_x_x\", axis='columns').drop(\"rowguid\", axis='columns').drop(\"rowguid_x\", axis='columns').drop(\"rowguid_y\", axis='columns')\n",
    "product_merge.rename(columns = {'Name_y':'SubcategoryName', 'Name_x':'CategoryName'},  inplace = True)\n",
    "\n",
    "\n",
    "productModelProductDescriptionCulture_merge = pd.merge(productModelProductDescriptionCulture, culture, on='CultureID')\n",
    "\n",
    "productDescription = productDescription\n",
    "\n",
    "productDocument_merge = pd.merge(productDocument, document, on='DocumentNode')"
   ]
  },
  {
   "cell_type": "markdown",
   "metadata": {},
   "source": [
    "AdventureWorks_2019_Sales Merges"
   ]
  },
  {
   "cell_type": "code",
   "execution_count": 123,
   "metadata": {},
   "outputs": [],
   "source": [
    "store = store\n",
    "customer = customer\n",
    "salesPerson = salesPerson\n",
    "salesTerritory = salesTerritory\n",
    "countryRegionCurrency = countryRegionCurrency\n",
    "currency = currency\n",
    "salesOrderHeaderSalesReason = salesOrderHeaderSalesReason\n",
    "salesReason = salesReason\n",
    "specialOfferProduct = specialOfferProduct\n",
    "salesOrderDetail = salesOrderDetail\n",
    "billOfMaterials_merge = pd.merge(billOfMaterials, unitMeasure, on='UnitMeasureCode')\n",
    "billOfMaterials_merge\n",
    "currencyRate = currencyRate\n",
    "salesPersonQuotaHistory = salesPersonQuotaHistory\n",
    "salesTerritoryHistory = salesTerritoryHistory\n",
    "salesTaxRate = salesTaxRate\n",
    "salesOrderHeader = salesOrderHeader"
   ]
  }
 ],
 "metadata": {
  "kernelspec": {
   "display_name": "Python 3",
   "language": "python",
   "name": "python3"
  },
  "language_info": {
   "codemirror_mode": {
    "name": "ipython",
    "version": 3
   },
   "file_extension": ".py",
   "mimetype": "text/x-python",
   "name": "python",
   "nbconvert_exporter": "python",
   "pygments_lexer": "ipython3",
   "version": "3.12.2"
  }
 },
 "nbformat": 4,
 "nbformat_minor": 2
}
