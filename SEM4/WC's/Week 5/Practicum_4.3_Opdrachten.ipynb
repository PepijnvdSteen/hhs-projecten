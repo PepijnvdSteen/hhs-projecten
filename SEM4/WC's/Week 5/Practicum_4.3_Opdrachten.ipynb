{
 "cells": [
  {
   "cell_type": "code",
   "execution_count": null,
   "metadata": {},
   "outputs": [],
   "source": [
    "import pandas as pd\n",
    "import pypyodbc\n",
    "import sqlite3\n",
    "\n",
    "DB = {'servername': 'DESKTOP-P7DROCJ\\WINCCPLUSMIG2014', 'database': 'datawarehouse'}\n",
    "\n",
    "export_conn = pypyodbc.connect('DRIVER={SQL Server};SERVER=' + DB['servername'] + ';DATABASE=' + DB['database'] + ';Trusted_Connection=yes')\n",
    "\n",
    "cursor = export_conn.cursor()\n",
    "\n",
    "try:\n",
    "      cursor.excecute(\"SELECT * FROM COURSE\")\n",
    "      test = cursor.fetchall()\n",
    "      print(test)\n",
    "except pypyodbc.Error as e:\n",
    "      print(e)\n",
    "\n",
    "try:\n",
    "      cursor.excecute(\"INSERT INTO COURSE VALUES (1, 'HBO-ICT')\")\n",
    "      cursor.commit\n",
    "except pypyodbc.Error as e:\n",
    "      print(e)"
   ]
  },
  {
   "cell_type": "markdown",
   "metadata": {},
   "source": [
    "<h1>ALLES ALS DATAFRAME </h1>"
   ]
  },
  {
   "cell_type": "code",
   "execution_count": 17,
   "metadata": {},
   "outputs": [],
   "source": [
    "import pandas as pd\n",
    "import numpy as np\n",
    "import sqlite3\n",
    "import datetime\n",
    "# import pypyodbc\n",
    "\n",
    "go_sales = sqlite3.connect(\"/Users/pep/Downloads/Great_Outdoors_Data_SQLite/go_sales.sqlite\")\n",
    "go_staff = sqlite3.connect(\"/Users/pep/Downloads/Great_Outdoors_Data_SQLite/go_staff.sqlite\")\n",
    "go_crm = sqlite3.connect(\"/Users/pep/Downloads/Great_Outdoors_Data_SQLite/go_crm.sqlite\")\n",
    "g = go_sales.cursor()\n",
    "h = go_crm.cursor()\n",
    "i = go_staff.cursor()\n",
    "\n",
    "\n",
    "sales_product = pd.read_sql_query(\"SELECT * FROM product\", go_sales)\n",
    "product_type = pd.read_sql_query(\"SELECT * FROM product_type\", go_sales)\n",
    "product_line = pd.read_sql_query(\"SELECT * FROM product_line\", go_sales)\n",
    "sales_staff = pd.read_sql_query(\"SELECT * FROM sales_staff\", go_sales)\n",
    "sales_branch = pd.read_sql_query(\"SELECT * FROM sales_branch\", go_sales)\n",
    "retailer_site = pd.read_sql_query(\"SELECT * FROM retailer_site\", go_sales)\n",
    "sales_country = pd.read_sql_query(\"SELECT * FROM country\", go_sales)\n",
    "order_header = pd.read_sql_query(\"SELECT * FROM order_header\", go_sales)\n",
    "order_details = pd.read_sql_query(\"SELECT * FROM order_details\", go_sales)\n",
    "sales_targetdata = pd.read_sql_query(\"SELECT * FROM SALES_TARGETData\", go_sales)\n",
    "returned_item = pd.read_sql_query(\"SELECT * FROM returned_item\", go_sales)\n",
    "return_reason = pd.read_sql_query(\"SELECT * FROM return_reason\", go_sales)\n",
    "order_method = pd.read_sql_query(\"SELECT * FROM order_method\", go_sales)\n",
    "\n",
    "satisfaction_type = pd.read_sql_query(\"SELECT * FROM satisfaction_type\", go_staff)\n",
    "course =  pd.read_sql_query(\"SELECT * FROM course\", go_staff)\n",
    "satisfaction =  pd.read_sql_query(\"SELECT * FROM satisfaction\", go_staff)\n",
    "training =  pd.read_sql_query(\"SELECT * FROM training\", go_staff)\n",
    "s_sales_staff =  pd.read_sql_query(\"SELECT * FROM sales_staff\", go_staff)\n",
    "staff_sales_branch =  pd.read_sql_query(\"SELECT * FROM sales_branch\", go_staff)\n",
    "\n",
    "retailer_contact = pd.read_sql_query(\"SELECT * FROM retailer_contact\", go_crm)\n",
    "crm_retailer_site =  pd.read_sql_query(\"SELECT * FROM retailer_site\", go_crm)\n",
    "sales_territory = pd.read_sql_query(\"SELECT * FROM sales_territory\", go_crm)\n",
    "crm_country = pd.read_sql_query(\"SELECT * FROM country\", go_crm)\n",
    "retailer_headquarters = pd.read_sql_query(\"SELECT * FROM retailer_headquarters\", go_crm)\n",
    "crm_retailer = pd.read_sql_query(\"SELECT * FROM retailer\", go_crm)\n",
    "retailer_type = pd.read_sql_query(\"SELECT * FROM retailer_type\", go_crm)\n",
    "sales_demographic = pd.read_sql_query(\"SELECT * FROM sales_demographic\", go_crm)\n",
    "retailer_segment = pd.read_sql_query(\"SELECT * FROM retailer_segment\", go_crm)\n",
    "age_group = pd.read_sql_query(\"SELECT * FROM age_group\", go_crm)\n",
    "\n",
    "inventory_forecast = pd.read_csv(\"/Users/pep/Downloads/Great_Outdoors_Data_SQLite/GO_SALES_INVENTORY_LEVELSData.csv\")\n",
    "product_forecast = pd.read_csv(\"/Users/pep/Downloads/Great_Outdoors_Data_SQLite/GO_SALES_PRODUCT_FORECASTData.csv\")"
   ]
  },
  {
   "cell_type": "markdown",
   "metadata": {},
   "source": [
    "<h1> DIMENSIES</h1>"
   ]
  },
  {
   "cell_type": "markdown",
   "metadata": {},
   "source": [
    "<b> sales_retailer_site </b>"
   ]
  },
  {
   "cell_type": "code",
   "execution_count": null,
   "metadata": {},
   "outputs": [],
   "source": [
    "sales_retailer_site = pd.merge(retailer_site, sales_country, on='COUNTRY_CODE')\n",
    "\n",
    "try:\n",
    "    query = f\"ALTER TABLE SALES_RETAILER_SITE ADD SK_sales_retailer_site INT IDENTITY(1,1) NOT NULL PRIMARY KEY, Timestamp DATETIME NOT NULL DEFAULT(GETDATE())\"\n",
    "except pypyodbc.Error as e:\n",
    "    print(f\"Error inserting row {index}: {e}\")\n",
    "\n",
    "for index, row in sales_retailer_site.iterrows():\n",
    "    try:\n",
    "        query = f\"INSERT INTO SALES_RETAILER_SITE VALUES ('{row['RETAILER_SITE_CODE']}', '{row['RETAILER_CODE']}', '{row['ADDRESS1']}', '{row['ADDRESS2']}', '{row['CITY']}', '{row['REGION']}', '{row['POSTAL_ZONE']}', '{row['COUNTRY_CODE']}', '{row['ACTIVE_INDICATOR']}', '{row['COUNTRY']}', '{row['LANGUAGE']}', '{row['CURRENCY_NAME']}')\"\n",
    "        cursor.execute(query)\n",
    "    except pypyodbc.Error as e:\n",
    "        print(f\"Error inserting row {index}: {e}\")\n",
    "\n",
    "export_conn.commit()\n",
    "cursor.close()"
   ]
  },
  {
   "cell_type": "markdown",
   "metadata": {},
   "source": [
    "<b>sales_sales_staff</b>"
   ]
  },
  {
   "cell_type": "code",
   "execution_count": null,
   "metadata": {},
   "outputs": [],
   "source": [
    "sales_sales_staff = pd.merge(sales_staff, pd.merge(sales_branch, sales_country, how='left', left_on='COUNTRY_CODE', right_on='COUNTRY_CODE'), how='left', left_on='SALES_BRANCH_CODE', right_on='SALES_BRANCH_CODE')\n",
    "sales_sales_staff.drop(columns=['TRIAL888_x', 'TRIAL888_y'])\n",
    "\n",
    "try:\n",
    "    query = f\"ALTER TABLE sales_sales_staff ADD SK_sales_sales_staff INT IDENTITY(1,1) NOT NULL PRIMARY KEY, Timestamp DATETIME NOT NULL DEFAULT(GETDATE())\"\n",
    "except pypyodbc.Error as e:\n",
    "    print(f\"Error inserting row {index}: {e}\")\n",
    "\n",
    "for index, row in sales_sales_staff.iterrows():\n",
    "    try:\n",
    "        query = f\"INSERT INTO SALES_SALES_STAFF VALUES ('{row['SALES_STAFF_CODE']}', '{row['FIRST_NAME']}', '{row['LAST_NAME']}', '{row['POSITION_EN']}', '{row['WORK_PHONE']}', '{row['EXTENSION']}', '{row['FAX']}', '{row['EMAIL']}', '{row['DATE_HIRED']}', '{row['SALES_BRANCH_CODE']}', '{row['ADDRESS1']}', '{row['ADDRESS2']}', '{row['CITY']}', '{row['REGION']}', '{row['POSTAL_ZONE']}', '{row['COUNTRY_CODE']}', '{row['COUNTRY']}', '{row['LANGUAGE']}', '{row['CURRENCY_NAME']}')\"\n",
    "    except pypyodbc.Error as e:\n",
    "        print(f\"Error inserting row {index}: {e}\")\n",
    "\n",
    "export_conn.commit()\n",
    "cursor.close()"
   ]
  },
  {
   "cell_type": "markdown",
   "metadata": {},
   "source": [
    "<b>order_method </b>"
   ]
  },
  {
   "cell_type": "code",
   "execution_count": null,
   "metadata": {},
   "outputs": [],
   "source": [
    "order_method\n",
    "\n",
    "try:\n",
    "    query = f\"ALTER TABLE order_method ADD SK_order_method INT IDENTITY(1,1) NOT NULL PRIMARY KEY, Timestamp DATETIME NOT NULL DEFAULT(GETDATE())\"\n",
    "except pypyodbc.Error as e:\n",
    "    print(f\"Error inserting row {index}: {e}\")\n",
    "\n",
    "for index, row in order_method.iterrows():\n",
    "    try:\n",
    "        query = f\"INSERT INTO ORDER_METHOD VALUES ('{row['ORDER_METHOD_CODE']}', '{row['ORDER_METHOD_EN']}')\"\n",
    "    except pypyodbc.Error as e:\n",
    "        print(f\"Error inserting row {index}: {e}\")\n",
    "\n",
    "export_conn.commit()\n",
    "cursor.close()"
   ]
  },
  {
   "cell_type": "markdown",
   "metadata": {},
   "source": [
    "<b>product</b>"
   ]
  },
  {
   "cell_type": "code",
   "execution_count": null,
   "metadata": {},
   "outputs": [],
   "source": [
    "product = pd.merge(sales_product, pd.merge(product_type, product_line, how='left', left_on='PRODUCT_LINE_CODE', right_on='PRODUCT_LINE_CODE'), how='left', left_on='PRODUCT_TYPE_CODE', right_on='PRODUCT_TYPE_CODE')\n",
    "\n",
    "try:\n",
    "    query = f\"ALTER TABLE staff_sales_staff ADD SK_staff_sales_staff INT IDENTITY(1,1) NOT NULL PRIMARY KEY, Timestamp DATETIME NOT NULL DEFAULT(GETDATE())\"\n",
    "except pypyodbc.Error as e:\n",
    "    print(f\"Error inserting row {index}: {e}\")\n",
    "\n",
    "\n",
    "for index, row in product.iterrows():\n",
    "    try:\n",
    "        query = f\"INSERT INTO PRODUCT VALUES ('{row['PRODUCT_NUMBER']}', '{row['INTRODUCTION_DATE']}', '{row['PRODUCT_TYPE_COST']}', '{row['PRODUCTION_COST']}', '{row['MARGIN']}', '{row['PRODUCT_IMAGE']}', '{row['LANGUAGE']}', '{row['PRODUCT_NAME']}', '{row['DESCRIPTION']}', '{row['PRODUCT_LINE_CODE']}', '{row['PRODUCT_TYPE_EN']}', '{row['PRODUCT_LINE_EN']}')\"\n",
    "    except pypyodbc.Error as e:\n",
    "        print(f\"Error inserting row {index}: {e}\")\n",
    "\n",
    "export_conn.commit()\n",
    "cursor.close()"
   ]
  },
  {
   "cell_type": "markdown",
   "metadata": {},
   "source": [
    "<b>return_reason</b>"
   ]
  },
  {
   "cell_type": "code",
   "execution_count": null,
   "metadata": {},
   "outputs": [],
   "source": [
    "return_reason.drop(columns=['TRIAL888'])\n",
    "\n",
    "try:\n",
    "    query = f\"ALTER TABLE staff_sales_staff ADD SK_staff_sales_staff INT IDENTITY(1,1) NOT NULL PRIMARY KEY, Timestamp DATETIME NOT NULL DEFAULT(GETDATE())\"\n",
    "except pypyodbc.Error as e:\n",
    "    print(f\"Error inserting row {index}: {e}\")\n",
    "\n",
    "for row, index in return_reason.iterrows:\n",
    "    try:\n",
    "        query = f\"INSERT INTO RETURN_REASON VALUES ('{row['RETURN_REASON_CODE']}', '{row['RETURN_DESCRIPTION_EN']}')\"\n",
    "    except pypyodbc.Error as e:\n",
    "        print(f\"Error inserting row {index}: {e}\")\n",
    "\n",
    "export_conn.commit()\n",
    "cursor.close()"
   ]
  },
  {
   "cell_type": "markdown",
   "metadata": {},
   "source": [
    "<b>retailer</b>"
   ]
  },
  {
   "cell_type": "code",
   "execution_count": null,
   "metadata": {},
   "outputs": [],
   "source": [
    "retailer = pd.merge(pd.merge(crm_retailer, retailer_type, how='left', left_on='RETAILER_TYPE_CODE', right_on='RETAILER_TYPE_CODE'), pd.merge(retailer_headquarters, retailer_segment, how='left', left_on='SEGMENT_CODE', right_on='SEGMENT_CODE'), how='left', left_on='RETAILER_CODEMR', right_on='RETAILER_CODEMR')\n",
    "retailer.drop(columns=['TRIAL219', 'TRIAL222', 'TRIAL222_x', 'TRIAL222_y'])\n",
    "\n",
    "try:\n",
    "    query = f\"ALTER TABLE staff_sales_staff ADD SK_staff_sales_staff INT IDENTITY(1,1) NOT NULL PRIMARY KEY, Timestamp DATETIME NOT NULL DEFAULT(GETDATE())\"\n",
    "except pypyodbc.Error as e:\n",
    "    print(f\"Error inserting row {index}: {e}\")\n",
    "\n",
    "for row, index in retailer.iterrows:\n",
    "    try:\n",
    "        query = f\"INSERT INTO RETAILER VALUES ('{row['RETAILER_CODE']}', '{row['RETAILER_CODEMR']}', '{row['COMPANY_NAME']}', '{row['RETAILER_TYPE_CODE']}', '{row['RETAILER_TYPE_EN']}', '{row['RETAILER_NAME']}', '{row['ADDRESS1']}', '{row['ADDRESS2']}', '{row['CITY']}', '{row['REGION']}', '{row['POSTAL_ZONE']}', '{row['COUNTRY_CODE']}', '{row['PHONE']}', '{row['FAX']}', '{row['SEGMENT_CODE']}', '{row['LANGUAGE']}', '{row['SEGMENT_NAME']}', '{row['SEGMENT_DESCRIPTION']}')\"\n",
    "    except pypyodbc.Error as e:\n",
    "        print(f\"Error inserting row {index}: {e}\")\n",
    "\n",
    "export_conn.commit()\n",
    "cursor.close()"
   ]
  },
  {
   "cell_type": "markdown",
   "metadata": {},
   "source": [
    "<b>course</b>"
   ]
  },
  {
   "cell_type": "code",
   "execution_count": null,
   "metadata": {},
   "outputs": [],
   "source": [
    "course.drop(columns='TRIAL633')\n",
    "\n",
    "try:\n",
    "    query = f\"ALTER TABLE staff_sales_staff ADD SK_staff_sales_staff INT IDENTITY(1,1) NOT NULL PRIMARY KEY, Timestamp DATETIME NOT NULL DEFAULT(GETDATE())\"\n",
    "except pypyodbc.Error as e:\n",
    "    print(f\"Error inserting row {index}: {e}\")\n",
    "\n",
    "for row, index in course.iterrows():\n",
    "    try:\n",
    "        query = f\"INSERT INTO course VALUES ({row['COURSE_CODE']}, '{row['COURSE_DESCRIPTION']}')\"\n",
    "        cursor.execute(query)\n",
    "    except pypyodbc.Error as e:\n",
    "        print(f\"Error inserting row {index}: {e}\")\n",
    "\n",
    "export_conn.commit()\n",
    "cursor.close()"
   ]
  },
  {
   "cell_type": "markdown",
   "metadata": {},
   "source": [
    "<b>satisfaction_type</b>"
   ]
  },
  {
   "cell_type": "code",
   "execution_count": null,
   "metadata": {},
   "outputs": [],
   "source": [
    "satisfaction_type.drop(columns='TRIAL633')\n",
    "\n",
    "try:\n",
    "    query = f\"ALTER TABLE staff_sales_staff ADD SK_staff_sales_staff INT IDENTITY(1,1) NOT NULL PRIMARY KEY, Timestamp DATETIME NOT NULL DEFAULT(GETDATE())\"\n",
    "except pypyodbc.Error as e:\n",
    "    print(f\"Error inserting row {index}: {e}\")\n",
    "\n",
    "for row, index in satisfaction_type.iterrows:\n",
    "    try:\n",
    "        query = f\"INSERT INTO SATISFACTION_TYPE VALUES ('{row['SATISFACTION_TYPE_CODE']}', '{row['SATISFACTION_TYPE_DESCRIPTION']}')\"\n",
    "    except pypyodbc.Error as e:\n",
    "        print(f\"Error inserting row {index}: {e}\")\n",
    "\n",
    "export_conn.commit()\n",
    "cursor.close()"
   ]
  },
  {
   "cell_type": "markdown",
   "metadata": {},
   "source": [
    "<b>staff_sales_staff</b>"
   ]
  },
  {
   "cell_type": "code",
   "execution_count": null,
   "metadata": {},
   "outputs": [],
   "source": [
    "staff_sales_staff = pd.merge(s_sales_staff, pd.merge(staff_sales_branch, sales_country, how='left', left_on='COUNTRY_CODE', right_on='COUNTRY_CODE'), how='left', left_on='SALES_BRANCH_CODE', right_on='SALES_BRANCH_CODE')\n",
    "staff_sales_staff.drop(columns=['TRIAL633_x', 'TRIAL633_y', 'TRIAL879'])\n",
    "\n",
    "try:\n",
    "    query = f\"ALTER TABLE staff_sales_staff ADD SK_staff_sales_staff INT IDENTITY(1,1) NOT NULL PRIMARY KEY, Timestamp DATETIME NOT NULL DEFAULT(GETDATE())\"\n",
    "except pypyodbc.Error as e:\n",
    "    print(f\"Error inserting row {index}: {e}\")\n",
    "\n",
    "for row, index in staff_sales_staff.iterrows:\n",
    "    try:\n",
    "        query = f\"INSERT INTO STAFF_SALES_STAFF VALUES ('{row['SALES_STAFF_CODE']}', '{row['FIRST_NAME']}', '{row['LAST_NAME']}', '{row['POSITION_EN']}', '{row['WORK_PHONE']}', '{row['EXTENSION']}', '{row['FAX']}', '{row['EMAIL']}', '{row['DATE_HIRED']}', '{row['SALES_BRANCH_CODE']}', '{row['MANAGER_CODE']}', '{row['ADDRESS1']}', '{row['ADDRESS2']}', '{row['CITY']}', '{row['REGION']}', '{row['POSTAL_ZONE']}', '{row['COUNTRY_CODE']}', '{row['COUNTRY']}', '{row['LANGUAGE']}', '{row['CURRENCY_NAME']}')\"\n",
    "    except pypyodbc.Error as e:\n",
    "        print(f\"Error inserting row {index}: {e}\")\n",
    "\n",
    "export_conn.commit()\n",
    "cursor.close()"
   ]
  },
  {
   "cell_type": "markdown",
   "metadata": {},
   "source": [
    "<h1>FEITEN</h1>"
   ]
  },
  {
   "cell_type": "markdown",
   "metadata": {},
   "source": [
    "<b>order_data</b>"
   ]
  },
  {
   "cell_type": "code",
   "execution_count": null,
   "metadata": {},
   "outputs": [],
   "source": [
    "order_data = pd.merge(order_header, pd.merge(order_details, returned_item, how='left', left_on='ORDER_DETAIL_CODE', right_on='ORDER_DETAIL_CODE'), how='left', left_on='ORDER_NUMBER', right_on='ORDER_NUMBER')\n",
    "order_data.drop(columns=['TRIAL885', 'TRIAL879', 'TRIAL888'])\n",
    "\n",
    "try:\n",
    "    query = f\"ALTER TABLE ORDER_DATA ADD SK_order_data INT IDENTITY(1,1) NOT NULL PRIMARY KEY, Timestamp DATETIME NOT NULL DEFAULT(GETDATE())\"\n",
    "except pypyodbc.Error as e:\n",
    "    print(f\"Error inserting row {index}: {e}\")\n",
    "\n",
    "for row, index in order_data.iterrows:\n",
    "    try:\n",
    "        query = f\"INSERT INTO ORDER_DATA VALUES ('{row['ORDER_NUMBER']}', '{row['RETAILER_NAME']}', '{row['RETAILER_SITE_CODE']}', '{row['RETAILER_CONTACT_CODE']}', '{row['SALES_STAFF_CODE']}', '{row['SALES_BRANCH_CODE']}', '{row['ORDER_DATE']}', '{row['ORDER_METHOD_CODE']}', '{row['ORDER_DETAIL_CODE']}', '{row['PRODUCT_NUMBER']}', '{row['QUANTITY']}', '{row['UNIT_COST']}', '{row['UNIT_PRICE']}', '{row['UNIT_SALE_PRICE']}', '{row['RETURN_CODE']}', '{row['RETURN_DATE']}', '{row['RETURN_REASON_CODE']}', '{row['RETURN_QUANTITY']}')\"\n",
    "    except pypyodbc.Error as e:\n",
    "        print(f\"Error inserting row {index}: {e}\")\n",
    "\n",
    "export_conn.commit()\n",
    "cursor.close()"
   ]
  },
  {
   "cell_type": "markdown",
   "metadata": {},
   "source": [
    "<b>sales_targetdata</b>"
   ]
  },
  {
   "cell_type": "code",
   "execution_count": null,
   "metadata": {},
   "outputs": [],
   "source": [
    "sales_targetdata\n",
    "\n",
    "try:\n",
    "    query = f\"ALTER TABLE sales_targetdata ADD SK_sales_targetdata INT IDENTITY(1,1) NOT NULL PRIMARY KEY, Timestamp DATETIME NOT NULL DEFAULT(GETDATE())\"\n",
    "except pypyodbc.Error as e:\n",
    "    print(f\"Error inserting row {index}: {e}\")\n",
    "\n",
    "for row, index in sales_targetdata.iterrows:\n",
    "    try:\n",
    "        query = f\"INSERT INTO sales_targetdata VALUES ('{row['Id']}', '{row['SALES_STAFF_CODE']}', '{row['SALES_YEAR']}', '{row['SALES_PERIOD']}', '{row['RETAILER_NAME']}', '{row['PRODUCT_NUMBER']}', '{row['SALES_TARGET']}', '{row['RETAILER_CODE']}')\"\n",
    "    except pypyodbc.Error as e:\n",
    "        print(f\"Error inserting row {index}: {e}\")\n",
    "\n",
    "export_conn.commit()\n",
    "cursor.close()"
   ]
  },
  {
   "cell_type": "markdown",
   "metadata": {},
   "source": [
    "<b>date</b>"
   ]
  },
  {
   "cell_type": "code",
   "execution_count": null,
   "metadata": {},
   "outputs": [],
   "source": [
    "date = pd.DataFrame(columns=['DATE_YEAR','DATE_PERIOD', 'DATE_MONTH', 'DATE_DAY'])\n",
    "\n",
    "try:\n",
    "    query = f\"ALTER TABLE date ADD SK_date INT IDENTITY(1,1) NOT NULL PRIMARY KEY, Timestamp DATETIME NOT NULL DEFAULT(GETDATE())\"\n",
    "except pypyodbc.Error as e:\n",
    "    print(f\"Error inserting row {index}: {e}\")\n",
    "\n",
    "for row, index in date.iterrows:\n",
    "    try:\n",
    "        query = f\"INSERT INTO date VALUES ('{row['DATE_YEAR']}', '{row['DATE_PERIOD']}', '{row['DATE_MONTH']}', '{row['DATE_DAY']}')\"\n",
    "    except pypyodbc.Error as e:\n",
    "        print(f\"Error inserting row {index}: {e}\")\n",
    "\n",
    "export_conn.commit()\n",
    "cursor.close()"
   ]
  },
  {
   "cell_type": "markdown",
   "metadata": {},
   "source": [
    "<b>training</b>"
   ]
  },
  {
   "cell_type": "code",
   "execution_count": null,
   "metadata": {},
   "outputs": [],
   "source": [
    "try:\n",
    "    query = f\"ALTER TABLE training ADD SK_training INT IDENTITY(1,1) NOT NULL PRIMARY KEY, Timestamp DATETIME NOT NULL DEFAULT(GETDATE())\"\n",
    "except pypyodbc.Error as e:\n",
    "    print(f\"Error inserting row {index}: {e}\")\n",
    "\n",
    "for row, index in date.iterrows:\n",
    "    try:\n",
    "        query = f\"INSERT INTO training VALUES ('{row['YEAR']}', '{row['SALES_STAFF_CODE']}', '{row['COURSE_CODE']}')\"\n",
    "    except pypyodbc.Error as e:\n",
    "        print(f\"Error inserting row {index}: {e}\")\n",
    "\n",
    "export_conn.commit()\n",
    "cursor.close()"
   ]
  },
  {
   "cell_type": "markdown",
   "metadata": {},
   "source": [
    "<B>satisfaction</b>"
   ]
  },
  {
   "cell_type": "code",
   "execution_count": null,
   "metadata": {},
   "outputs": [],
   "source": [
    "try:\n",
    "    query = f\"ALTER TABLE satisfaction ADD SK_satisfaction INT IDENTITY(1,1) NOT NULL PRIMARY KEY, Timestamp DATETIME NOT NULL DEFAULT(GETDATE())\"\n",
    "except pypyodbc.Error as e:\n",
    "    print(f\"Error inserting row {index}: {e}\")\n",
    "\n",
    "for row, index in date.iterrows:\n",
    "    try:\n",
    "        query = f\"INSERT INTO satisfaction VALUES ('{row['YEAR']}', '{row['SALES_STAFF_CODE']}', '{row['SATISFACTION_TYPE_CODE']}')\"\n",
    "    except pypyodbc.Error as e:\n",
    "        print(f\"Error inserting row {index}: {e}\")\n",
    "\n",
    "export_conn.commit()\n",
    "cursor.close()"
   ]
  },
  {
   "cell_type": "markdown",
   "metadata": {},
   "source": [
    "<b>inventory forecast</b>"
   ]
  },
  {
   "cell_type": "code",
   "execution_count": null,
   "metadata": {},
   "outputs": [],
   "source": [
    "try:\n",
    "    query = f\"ALTER TABLE GO_SALES_INVENTORY_FORECASTDATA ADD SK_GO_SALES_INVENTORY_FORECASTDATA INT IDENTITY(1,1) NOT NULL PRIMARY KEY, Timestamp DATETIME NOT NULL DEFAULT(GETDATE())\"\n",
    "except pypyodbc.Error as e:\n",
    "    print(f\"Error inserting row {index}: {e}\")\n",
    "\n",
    "for row, index in date.iterrows:\n",
    "    try:\n",
    "        query = f\"INSERT INTO GO_SALES_INVENTORY_FORECASTDATA VALUES ('{row['INVENTORY_YEAR']}', '{row['INVENTORY_MONTH']}', '{row['PRODUCT_NUMBER']}', '{row['INVENTORY_COUNT']}')\"\n",
    "    except pypyodbc.Error as e:\n",
    "        print(f\"Error inserting row {index}: {e}\")\n",
    "\n",
    "export_conn.commit()\n",
    "cursor.close()"
   ]
  },
  {
   "cell_type": "markdown",
   "metadata": {},
   "source": [
    "<B>product_forecast</B>"
   ]
  },
  {
   "cell_type": "code",
   "execution_count": null,
   "metadata": {},
   "outputs": [],
   "source": [
    "try:\n",
    "    query = f\"ALTER TABLE GO_SALES_PRODUCT_FORECASTDATA ADD SK_GO_SALES_PRODUCT_FORECASTDATA INT IDENTITY(1,1) NOT NULL PRIMARY KEY, Timestamp DATETIME NOT NULL DEFAULT(GETDATE())\"\n",
    "except pypyodbc.Error as e:\n",
    "    print(f\"Error inserting row {index}: {e}\")\n",
    "\n",
    "for row, index in date.iterrows:\n",
    "    try:\n",
    "        query = f\"INSERT INTO GO_SALES_PRODUCT_FORECASTDATA VALUES ('{row['PRODUCT_NUMBER']}', '{row['YEAR']}', '{row['MONTH']}', '{row['EXPECTED_VOLUME']}')\"\n",
    "    except pypyodbc.Error as e:\n",
    "        print(f\"Error inserting row {index}: {e}\")\n",
    "\n",
    "export_conn.commit()\n",
    "cursor.close()"
   ]
  }
 ],
 "metadata": {
  "kernelspec": {
   "display_name": "Python 3",
   "language": "python",
   "name": "python3"
  },
  "language_info": {
   "codemirror_mode": {
    "name": "ipython",
    "version": 3
   },
   "file_extension": ".py",
   "mimetype": "text/x-python",
   "name": "python",
   "nbconvert_exporter": "python",
   "pygments_lexer": "ipython3",
   "version": "3.12.2"
  }
 },
 "nbformat": 4,
 "nbformat_minor": 2
}
