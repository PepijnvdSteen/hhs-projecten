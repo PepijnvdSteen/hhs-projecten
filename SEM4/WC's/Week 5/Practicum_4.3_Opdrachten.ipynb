{
 "cells": [
  {
   "cell_type": "code",
   "execution_count": null,
   "metadata": {},
   "outputs": [],
   "source": [
    "import pandas as pd\n",
    "import pypyodbc\n",
    "import sqlite3\n",
    "\n",
    "DB = {'servername': 'DESKTOP-P7DROCJ\\WINCCPLUSMIG2014',\n",
    "      'database': 'datawarehouse'}\n",
    "\n",
    "export_conn = pypyodbc.connect('DRIVER={SQL Server};SERVER=' + DB['servername'] + ';DATABASE=' + DB['database'] + ';Trusted_Connection=yes')\n",
    "\n",
    "cursor = export_conn.cursor()\n",
    "\n",
    "try:\n",
    "      cursor.excecute(\"SELECT * FROM COURSE\")\n",
    "      test = cursor.fetchall()\n",
    "      print(test)\n",
    "except pypyodbc.Error as e:\n",
    "      print(e)\n",
    "\n",
    "try:\n",
    "      cursor.excecute(\"INSERT INTO COURSE VALUES (1, 'HBO-ICT')\")\n",
    "      cursor.commit\n",
    "except pypyodbc.Error as e:\n",
    "      print(e)"
   ]
  },
  {
   "cell_type": "markdown",
   "metadata": {},
   "source": [
    "<h1>ALLES ALS DATAFRAME </h1>"
   ]
  },
  {
   "cell_type": "code",
   "execution_count": 55,
   "metadata": {},
   "outputs": [],
   "source": [
    "import pandas as pd\n",
    "import numpy as np\n",
    "import sqlite3\n",
    "\n",
    "go_sales = sqlite3.connect(\"/Users/pep/Downloads/Great_Outdoors_Data_SQLite/go_sales.sqlite\")\n",
    "go_staff = sqlite3.connect(\"/Users/pep/Downloads/Great_Outdoors_Data_SQLite/go_staff.sqlite\")\n",
    "go_crm = sqlite3.connect(\"/Users/pep/Downloads/Great_Outdoors_Data_SQLite/go_crm.sqlite\")\n",
    "g = go_sales.cursor()\n",
    "h = go_crm.cursor()\n",
    "i = go_staff.cursor()\n",
    "\n",
    "\n",
    "sales_product = pd.read_sql_query(\"SELECT * FROM product\", go_sales)\n",
    "product_type = pd.read_sql_query(\"SELECT * FROM product_type\", go_sales)\n",
    "product_line = pd.read_sql_query(\"SELECT * FROM product_line\", go_sales)\n",
    "sales_staff = pd.read_sql_query(\"SELECT * FROM sales_staff\", go_sales)\n",
    "sales_branch = pd.read_sql_query(\"SELECT * FROM sales_branch\", go_sales)\n",
    "retailer_site = pd.read_sql_query(\"SELECT * FROM retailer_site\", go_sales)\n",
    "sales_country = pd.read_sql_query(\"SELECT * FROM country\", go_sales)\n",
    "order_header = pd.read_sql_query(\"SELECT * FROM order_header\", go_sales)\n",
    "order_details = pd.read_sql_query(\"SELECT * FROM order_details\", go_sales)\n",
    "target = pd.read_sql_query(\"SELECT * FROM SALES_TARGETData\", go_sales)\n",
    "returned_item = pd.read_sql_query(\"SELECT * FROM returned_item\", go_sales)\n",
    "return_reason = pd.read_sql_query(\"SELECT * FROM return_reason\", go_sales)\n",
    "order_method = pd.read_sql_query(\"SELECT * FROM order_method\", go_sales)\n",
    "\n",
    "satisfaction_type = pd.read_sql_query(\"SELECT * FROM satisfaction_type\", go_staff)\n",
    "course =  pd.read_sql_query(\"SELECT * FROM course\", go_staff)\n",
    "satisfaction =  pd.read_sql_query(\"SELECT * FROM satisfaction\", go_staff)\n",
    "training =  pd.read_sql_query(\"SELECT * FROM training\", go_staff)\n",
    "s_sales_staff =  pd.read_sql_query(\"SELECT * FROM sales_staff\", go_staff)\n",
    "staff_sales_branch =  pd.read_sql_query(\"SELECT * FROM sales_branch\", go_staff)\n",
    "\n",
    "retailer_contact = pd.read_sql_query(\"SELECT * FROM retailer_contact\", go_crm)\n",
    "crm_retailer_site =  pd.read_sql_query(\"SELECT * FROM retailer_site\", go_crm)\n",
    "sales_territory = pd.read_sql_query(\"SELECT * FROM sales_territory\", go_crm)\n",
    "crm_country = pd.read_sql_query(\"SELECT * FROM country\", go_crm)\n",
    "retailer_headquarters = pd.read_sql_query(\"SELECT * FROM retailer_headquarters\", go_crm)\n",
    "crm_retailer = pd.read_sql_query(\"SELECT * FROM retailer\", go_crm)\n",
    "retailer_type = pd.read_sql_query(\"SELECT * FROM retailer_type\", go_crm)\n",
    "sales_demographic = pd.read_sql_query(\"SELECT * FROM sales_demographic\", go_crm)\n",
    "retailer_segment = pd.read_sql_query(\"SELECT * FROM retailer_segment\", go_crm)\n",
    "age_group = pd.read_sql_query(\"SELECT * FROM age_group\", go_crm)"
   ]
  },
  {
   "cell_type": "markdown",
   "metadata": {},
   "source": [
    "<h1> DIMENSIES</h1>"
   ]
  },
  {
   "cell_type": "markdown",
   "metadata": {},
   "source": [
    "<b> sales_retailer_site </b>"
   ]
  },
  {
   "cell_type": "code",
   "execution_count": null,
   "metadata": {},
   "outputs": [],
   "source": [
    "sales_retailer_site = pd.merge(retailer_site, country, how='inner', left_on='COUNTRY_CODE', right_on='COUNTRY_CODE')\n",
    "sales_retailer_site.drop(columns=['ACTIVE_INDICATOR', 'TRIAL888', 'TRIAL879'])"
   ]
  },
  {
   "cell_type": "markdown",
   "metadata": {},
   "source": [
    "<b>sales_sales_staff</b>"
   ]
  },
  {
   "cell_type": "code",
   "execution_count": null,
   "metadata": {},
   "outputs": [],
   "source": [
    "sales_sales_staff = pd.merge(sales_staff, pd.merge(sales_branch, sales_country, how='inner', left_on='COUNTRY_CODE', right_on='COUNTRY_CODE'), how='inner', left_on='SALES_BRANCH_CODE', right_on='SALES_BRANCH_CODE')\n",
    "sales_sales_staff.drop(columns=['TRIAL879', 'TRIAL633', 'TRIAL888'])"
   ]
  },
  {
   "cell_type": "markdown",
   "metadata": {},
   "source": [
    "<b>order_method </b>"
   ]
  },
  {
   "cell_type": "code",
   "execution_count": 37,
   "metadata": {},
   "outputs": [
    {
     "data": {
      "text/html": [
       "<div>\n",
       "<style scoped>\n",
       "    .dataframe tbody tr th:only-of-type {\n",
       "        vertical-align: middle;\n",
       "    }\n",
       "\n",
       "    .dataframe tbody tr th {\n",
       "        vertical-align: top;\n",
       "    }\n",
       "\n",
       "    .dataframe thead th {\n",
       "        text-align: right;\n",
       "    }\n",
       "</style>\n",
       "<table border=\"1\" class=\"dataframe\">\n",
       "  <thead>\n",
       "    <tr style=\"text-align: right;\">\n",
       "      <th></th>\n",
       "      <th>ORDER_METHOD_CODE</th>\n",
       "      <th>ORDER_METHOD_EN</th>\n",
       "    </tr>\n",
       "  </thead>\n",
       "  <tbody>\n",
       "    <tr>\n",
       "      <th>0</th>\n",
       "      <td>1</td>\n",
       "      <td>Fax</td>\n",
       "    </tr>\n",
       "    <tr>\n",
       "      <th>1</th>\n",
       "      <td>2</td>\n",
       "      <td>Telephone</td>\n",
       "    </tr>\n",
       "    <tr>\n",
       "      <th>2</th>\n",
       "      <td>3</td>\n",
       "      <td>Mail</td>\n",
       "    </tr>\n",
       "    <tr>\n",
       "      <th>3</th>\n",
       "      <td>4</td>\n",
       "      <td>E-mail</td>\n",
       "    </tr>\n",
       "    <tr>\n",
       "      <th>4</th>\n",
       "      <td>5</td>\n",
       "      <td>Web</td>\n",
       "    </tr>\n",
       "    <tr>\n",
       "      <th>5</th>\n",
       "      <td>7</td>\n",
       "      <td>Sales visit</td>\n",
       "    </tr>\n",
       "    <tr>\n",
       "      <th>6</th>\n",
       "      <td>8</td>\n",
       "      <td>Special</td>\n",
       "    </tr>\n",
       "  </tbody>\n",
       "</table>\n",
       "</div>"
      ],
      "text/plain": [
       "  ORDER_METHOD_CODE ORDER_METHOD_EN\n",
       "0                 1             Fax\n",
       "1                 2       Telephone\n",
       "2                 3            Mail\n",
       "3                 4          E-mail\n",
       "4                 5             Web\n",
       "5                 7     Sales visit\n",
       "6                 8         Special"
      ]
     },
     "execution_count": 37,
     "metadata": {},
     "output_type": "execute_result"
    }
   ],
   "source": [
    "order_method.drop(columns=['TRIAL888'])"
   ]
  },
  {
   "cell_type": "markdown",
   "metadata": {},
   "source": [
    "<b>product</b>"
   ]
  },
  {
   "cell_type": "code",
   "execution_count": null,
   "metadata": {},
   "outputs": [],
   "source": [
    "product = pd.merge(sales_product, pd.merge(product_type, product_line, how='inner', left_on='PRODUCT_LINE_CODE', right_on='PRODUCT_LINE_CODE'), how='inner', left_on='PRODUCT_TYPE_CODE', right_on='PRODUCT_TYPE_CODE')\n",
    "product.drop(columns=['TRIAL888', 'TRIAL888_x', 'TRIAL888_y'])"
   ]
  },
  {
   "cell_type": "markdown",
   "metadata": {},
   "source": [
    "<b>return_reason</b>"
   ]
  },
  {
   "cell_type": "code",
   "execution_count": null,
   "metadata": {},
   "outputs": [],
   "source": [
    "return_reason.drop(columns=['TRIAL888'])"
   ]
  },
  {
   "cell_type": "markdown",
   "metadata": {},
   "source": [
    "<b>retailer</b>"
   ]
  },
  {
   "cell_type": "code",
   "execution_count": null,
   "metadata": {},
   "outputs": [],
   "source": [
    "retailer = pd.merge(pd.merge(crm_retailer, retailer_type, how='inner', left_on='RETAILER_TYPE_CODE', right_on='RETAILER_TYPE_CODE'), pd.merge(retailer_headquarters, retailer_segment, how='inner', left_on='SEGMENT_CODE', right_on='SEGMENT_CODE'), how='inner', left_on='RETAILER_CODEMR', right_on='RETAILER_CODEMR')\n",
    "retailer.drop(columns=['TRIAL219', 'TRIAL222', 'TRIAL222_x', 'TRIAL222_y'])"
   ]
  },
  {
   "cell_type": "markdown",
   "metadata": {},
   "source": [
    "<b>course</b>"
   ]
  },
  {
   "cell_type": "code",
   "execution_count": null,
   "metadata": {},
   "outputs": [],
   "source": [
    "course.drop(columns='TRIAL633')"
   ]
  },
  {
   "cell_type": "markdown",
   "metadata": {},
   "source": [
    "<b>satisfaction_type</b>"
   ]
  },
  {
   "cell_type": "code",
   "execution_count": null,
   "metadata": {},
   "outputs": [],
   "source": [
    "satisfaction_type.drop(columns='TRIAL633')"
   ]
  },
  {
   "cell_type": "markdown",
   "metadata": {},
   "source": [
    "<b>staff_sales_staff</b>"
   ]
  },
  {
   "cell_type": "code",
   "execution_count": null,
   "metadata": {},
   "outputs": [],
   "source": [
    "staff_sales_staff = pd.merge(s_sales_staff, pd.merge(staff_sales_branch, sales_country, how='inner', left_on='COUNTRY_CODE', right_on='COUNTRY_CODE'), how='inner', left_on='SALES_BRANCH_CODE', right_on='SALES_BRANCH_CODE')\n",
    "staff_sales_staff.drop(columns=['TRIAL633_x', 'TRIAL633_y', 'TRIAL879'])"
   ]
  }
 ],
 "metadata": {
  "kernelspec": {
   "display_name": "Python 3",
   "language": "python",
   "name": "python3"
  },
  "language_info": {
   "codemirror_mode": {
    "name": "ipython",
    "version": 3
   },
   "file_extension": ".py",
   "mimetype": "text/x-python",
   "name": "python",
   "nbconvert_exporter": "python",
   "pygments_lexer": "ipython3",
   "version": "3.12.2"
  }
 },
 "nbformat": 4,
 "nbformat_minor": 2
}
