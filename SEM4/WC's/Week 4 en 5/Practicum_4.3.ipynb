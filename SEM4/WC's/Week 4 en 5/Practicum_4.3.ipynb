{
 "cells": [
  {
   "cell_type": "code",
   "execution_count": 42,
   "metadata": {},
   "outputs": [],
   "source": [
    "import pandas as pd\n",
    "import pypyodbc\n",
    "import sqlite3\n",
    "\n",
    "\n",
    "DB = {'servername': 'DESKTOP-P7DROCJ\\\\WINCCPLUSMIG2014',\n",
    "      'database': 'datawarehouse'}\n",
    "\n",
    "export_conn = pypyodbc.connect('DRIVER={SQL Server};SERVER=' + DB['servername'] + ';DATABASE=' + DB['database'] + ';Trusted_Connection=yes')\n",
    "\n",
    "cursor = export_conn.cursor()\n",
    "# #Toevoegen van surgret_key\n",
    "# query = \"ALTER TABLE COURSE ADD cource_SG INT IDENTITY(1,1)\"\n",
    "# cursor.execute(query)\n",
    "\n",
    "# query = \"ALTER TABLE ORDER_METHOD ADD cource_SG INT IDENTITY(1,1)\"\n",
    "# cursor.execute(query)\n",
    "\n",
    "# query = \"ALTER TABLE PRODUCT ADD PRODUCT_SG INT IDENTITY(1,1)\"\n",
    "# cursor.execute(query)\n",
    "\n",
    "# query = \"ALTER TABLE RETAILER ADD cource_SG INT IDENTITY(1,1)\"\n",
    "# cursor.execute(query)\n",
    "\n",
    "# query = \"ALTER TABLE RETURN_REASON ADD cource_SG INT IDENTITY(1,1)\"\n",
    "# cursor.execute(query)\n",
    "\n",
    "# query = \"ALTER TABLE SALES_RETAILER_SITE ADD cource_SG INT IDENTITY(1,1)\"\n",
    "# cursor.execute(query)\n",
    "\n",
    "# query = \"ALTER TABLE SALES_SALES_STAFF ADD cource_SG INT IDENTITY(1,1)\"\n",
    "# cursor.execute(query)\n",
    "\n",
    "# query = \"ALTER TABLE SATISFACTION_TYPE ADD cource_SG INT IDENTITY(1,1)\"\n",
    "# cursor.execute(query)\n",
    "\n",
    "# query = \"ALTER TABLE STAFF_SALES_STAFF ADD cource_SG INT IDENTITY(1,1)\"\n",
    "# cursor.execute(query)\n",
    "\n",
    "# try:\n",
    "#        cursor.execute(\"SELECT * FROM COURSE\")\n",
    "#        test = cursor.fetchall()\n",
    "#        print(test)\n",
    "# except pypyodbc.Error as e:\n",
    "#     print(e)\n",
    "# try:\n",
    "#     cursor.execute(\"INSERT INTO COURSE VALUES (3, 'Je-pa')\")\n",
    "#     cursor.commit()\n",
    "# except pypyodbc.Error as e:\n",
    "#     print(e)\n",
    "# try:\n",
    "#     cursor.execute(\"INSERT INTO PRODUCT VALUES (1, 'lol', 'AirPods', 'oortjes', 'Nederlands', 100, 'hoog', 10, 3, 'duur', 3, 'lol')\")\n",
    "#     cursor.commit()\n",
    "# except pypyodbc.Error as e:\n",
    "#     print(e)\n"
   ]
  },
  {
   "cell_type": "markdown",
   "metadata": {},
   "source": [
    "<h1>Plaatsen van de gegeven data in dataframes</h1>\n"
   ]
  },
  {
   "cell_type": "code",
   "execution_count": 3,
   "metadata": {},
   "outputs": [
    {
     "data": {
      "text/html": [
       "<div>\n",
       "<style scoped>\n",
       "    .dataframe tbody tr th:only-of-type {\n",
       "        vertical-align: middle;\n",
       "    }\n",
       "\n",
       "    .dataframe tbody tr th {\n",
       "        vertical-align: top;\n",
       "    }\n",
       "\n",
       "    .dataframe thead th {\n",
       "        text-align: right;\n",
       "    }\n",
       "</style>\n",
       "<table border=\"1\" class=\"dataframe\">\n",
       "  <thead>\n",
       "    <tr style=\"text-align: right;\">\n",
       "      <th></th>\n",
       "      <th>PRODUCT_TYPE_CODE</th>\n",
       "      <th>PRODUCT_LINE_CODE</th>\n",
       "      <th>PRODUCT_TYPE_EN</th>\n",
       "      <th>TRIAL888</th>\n",
       "    </tr>\n",
       "  </thead>\n",
       "  <tbody>\n",
       "    <tr>\n",
       "      <th>0</th>\n",
       "      <td>1</td>\n",
       "      <td>1</td>\n",
       "      <td>Cooking Gear</td>\n",
       "      <td>T</td>\n",
       "    </tr>\n",
       "    <tr>\n",
       "      <th>1</th>\n",
       "      <td>10</td>\n",
       "      <td>3</td>\n",
       "      <td>Watches</td>\n",
       "      <td>T</td>\n",
       "    </tr>\n",
       "    <tr>\n",
       "      <th>2</th>\n",
       "      <td>11</td>\n",
       "      <td>3</td>\n",
       "      <td>Eyewear</td>\n",
       "      <td>T</td>\n",
       "    </tr>\n",
       "    <tr>\n",
       "      <th>3</th>\n",
       "      <td>12</td>\n",
       "      <td>3</td>\n",
       "      <td>Knives</td>\n",
       "      <td>T</td>\n",
       "    </tr>\n",
       "    <tr>\n",
       "      <th>4</th>\n",
       "      <td>13</td>\n",
       "      <td>3</td>\n",
       "      <td>Binoculars</td>\n",
       "      <td>T</td>\n",
       "    </tr>\n",
       "    <tr>\n",
       "      <th>5</th>\n",
       "      <td>14</td>\n",
       "      <td>3</td>\n",
       "      <td>Navigation</td>\n",
       "      <td>T</td>\n",
       "    </tr>\n",
       "    <tr>\n",
       "      <th>6</th>\n",
       "      <td>15</td>\n",
       "      <td>4</td>\n",
       "      <td>Insect Repellents</td>\n",
       "      <td>T</td>\n",
       "    </tr>\n",
       "    <tr>\n",
       "      <th>7</th>\n",
       "      <td>16</td>\n",
       "      <td>4</td>\n",
       "      <td>Sunscreen</td>\n",
       "      <td>T</td>\n",
       "    </tr>\n",
       "    <tr>\n",
       "      <th>8</th>\n",
       "      <td>17</td>\n",
       "      <td>4</td>\n",
       "      <td>First Aid</td>\n",
       "      <td>T</td>\n",
       "    </tr>\n",
       "    <tr>\n",
       "      <th>9</th>\n",
       "      <td>18</td>\n",
       "      <td>5</td>\n",
       "      <td>Irons</td>\n",
       "      <td>T</td>\n",
       "    </tr>\n",
       "    <tr>\n",
       "      <th>10</th>\n",
       "      <td>19</td>\n",
       "      <td>5</td>\n",
       "      <td>Woods</td>\n",
       "      <td>T</td>\n",
       "    </tr>\n",
       "    <tr>\n",
       "      <th>11</th>\n",
       "      <td>2</td>\n",
       "      <td>1</td>\n",
       "      <td>Tents</td>\n",
       "      <td>T</td>\n",
       "    </tr>\n",
       "    <tr>\n",
       "      <th>12</th>\n",
       "      <td>20</td>\n",
       "      <td>5</td>\n",
       "      <td>Putters</td>\n",
       "      <td>T</td>\n",
       "    </tr>\n",
       "    <tr>\n",
       "      <th>13</th>\n",
       "      <td>21</td>\n",
       "      <td>5</td>\n",
       "      <td>Golf Accessories</td>\n",
       "      <td>T</td>\n",
       "    </tr>\n",
       "    <tr>\n",
       "      <th>14</th>\n",
       "      <td>3</td>\n",
       "      <td>1</td>\n",
       "      <td>Sleeping Bags</td>\n",
       "      <td>T</td>\n",
       "    </tr>\n",
       "    <tr>\n",
       "      <th>15</th>\n",
       "      <td>4</td>\n",
       "      <td>1</td>\n",
       "      <td>Packs</td>\n",
       "      <td>T</td>\n",
       "    </tr>\n",
       "    <tr>\n",
       "      <th>16</th>\n",
       "      <td>5</td>\n",
       "      <td>1</td>\n",
       "      <td>Lanterns</td>\n",
       "      <td>T</td>\n",
       "    </tr>\n",
       "    <tr>\n",
       "      <th>17</th>\n",
       "      <td>6</td>\n",
       "      <td>2</td>\n",
       "      <td>Rope</td>\n",
       "      <td>T</td>\n",
       "    </tr>\n",
       "    <tr>\n",
       "      <th>18</th>\n",
       "      <td>7</td>\n",
       "      <td>2</td>\n",
       "      <td>Safety</td>\n",
       "      <td>T</td>\n",
       "    </tr>\n",
       "    <tr>\n",
       "      <th>19</th>\n",
       "      <td>8</td>\n",
       "      <td>2</td>\n",
       "      <td>Climbing Accessories</td>\n",
       "      <td>T</td>\n",
       "    </tr>\n",
       "    <tr>\n",
       "      <th>20</th>\n",
       "      <td>9</td>\n",
       "      <td>2</td>\n",
       "      <td>Tools</td>\n",
       "      <td>T</td>\n",
       "    </tr>\n",
       "  </tbody>\n",
       "</table>\n",
       "</div>"
      ],
      "text/plain": [
       "   PRODUCT_TYPE_CODE PRODUCT_LINE_CODE       PRODUCT_TYPE_EN TRIAL888\n",
       "0                  1                 1          Cooking Gear        T\n",
       "1                 10                 3               Watches        T\n",
       "2                 11                 3               Eyewear        T\n",
       "3                 12                 3                Knives        T\n",
       "4                 13                 3            Binoculars        T\n",
       "5                 14                 3            Navigation        T\n",
       "6                 15                 4     Insect Repellents        T\n",
       "7                 16                 4             Sunscreen        T\n",
       "8                 17                 4             First Aid        T\n",
       "9                 18                 5                 Irons        T\n",
       "10                19                 5                 Woods        T\n",
       "11                 2                 1                 Tents        T\n",
       "12                20                 5               Putters        T\n",
       "13                21                 5      Golf Accessories        T\n",
       "14                 3                 1         Sleeping Bags        T\n",
       "15                 4                 1                 Packs        T\n",
       "16                 5                 1              Lanterns        T\n",
       "17                 6                 2                  Rope        T\n",
       "18                 7                 2                Safety        T\n",
       "19                 8                 2  Climbing Accessories        T\n",
       "20                 9                 2                 Tools        T"
      ]
     },
     "execution_count": 3,
     "metadata": {},
     "output_type": "execute_result"
    }
   ],
   "source": [
    "import pandas as pd\n",
    "import numpy as np\n",
    "import sqlite3\n",
    "#import pypyodbc\n",
    "\n",
    "go_sales = sqlite3.connect(\"/Users/pep/Downloads/Great_Outdoors_Data_SQLite/go_sales.sqlite\")\n",
    "go_staff = sqlite3.connect(\"/Users/pep/Downloads/Great_Outdoors_Data_SQLite/go_staff.sqlite\")\n",
    "go_crm = sqlite3.connect(\"/Users/pep/Downloads/Great_Outdoors_Data_SQLite/go_crm.sqlite\")\n",
    "inventory_forecast = pd.read_csv(\"/Users/pep/Downloads/Great_Outdoors_Data_SQLite/GO_SALES_INVENTORY_LEVELSData.csv\")\n",
    "product_forecast = pd.read_csv(\"/Users/pep/Downloads/Great_Outdoors_Data_SQLite/GO_SALES_PRODUCT_FORECASTData.csv\")\n",
    "g = go_sales.cursor()\n",
    "h = go_crm.cursor()\n",
    "i = go_staff.cursor()\n",
    "\n",
    "sales_product = pd.read_sql_query(\"SELECT * FROM product\", go_sales)\n",
    "product_type = pd.read_sql_query(\"SELECT * FROM product_type\", go_sales)\n",
    "product_line = pd.read_sql_query(\"SELECT * FROM product_line\", go_sales)\n",
    "sales_staff = pd.read_sql_query(\"SELECT * FROM sales_staff\", go_sales)\n",
    "sales_branch = pd.read_sql_query(\"SELECT * FROM sales_branch\", go_sales)\n",
    "retailer_site = pd.read_sql_query(\"SELECT * FROM retailer_site\", go_sales)\n",
    "sales_country = pd.read_sql_query(\"SELECT * FROM country\", go_sales)\n",
    "order_header = pd.read_sql_query(\"SELECT * FROM order_header\", go_sales)\n",
    "order_details = pd.read_sql_query(\"SELECT * FROM order_details\", go_sales)\n",
    "sales_targetdata = pd.read_sql_query(\"SELECT * FROM SALES_TARGETData\", go_sales)\n",
    "returned_item = pd.read_sql_query(\"SELECT * FROM returned_item\", go_sales)\n",
    "return_reason = pd.read_sql_query(\"SELECT * FROM return_reason\", go_sales)\n",
    "order_method = pd.read_sql_query(\"SELECT * FROM order_method\", go_sales)\n",
    "\n",
    "satisfaction_type = pd.read_sql_query(\"SELECT * FROM satisfaction_type\", go_staff)\n",
    "course =  pd.read_sql_query(\"SELECT * FROM course\", go_staff)\n",
    "satisfaction =  pd.read_sql_query(\"SELECT * FROM satisfaction\", go_staff)\n",
    "training =  pd.read_sql_query(\"SELECT * FROM training\", go_staff)\n",
    "s_sales_staff =  pd.read_sql_query(\"SELECT * FROM sales_staff\", go_staff)\n",
    "staff_sales_branch =  pd.read_sql_query(\"SELECT * FROM sales_branch\", go_staff)\n",
    "\n",
    "retailer_contact = pd.read_sql_query(\"SELECT * FROM retailer_contact\", go_crm)\n",
    "crm_retailer_site =  pd.read_sql_query(\"SELECT * FROM retailer_site\", go_crm)\n",
    "sales_territory = pd.read_sql_query(\"SELECT * FROM sales_territory\", go_crm)\n",
    "country = pd.read_sql_query(\"SELECT * FROM country\", go_crm)\n",
    "retailer_headquarters = pd.read_sql_query(\"SELECT * FROM retailer_headquarters\", go_crm)\n",
    "crm_retailer = pd.read_sql_query(\"SELECT * FROM retailer\", go_crm)\n",
    "retailer_type = pd.read_sql_query(\"SELECT * FROM retailer_type\", go_crm)\n",
    "sales_demographic = pd.read_sql_query(\"SELECT * FROM sales_demographic\", go_crm)\n",
    "retailer_segment = pd.read_sql_query(\"SELECT * FROM retailer_segment\", go_crm)\n",
    "age_group = pd.read_sql_query(\"SELECT * FROM age_group\", go_crm)"
   ]
  },
  {
   "cell_type": "markdown",
   "metadata": {},
   "source": [
    "<h1>Plaatsen van Dimenties in database</h1>"
   ]
  },
  {
   "cell_type": "markdown",
   "metadata": {},
   "source": [
    "<h2>Staff_sales_staff</h2>"
   ]
  },
  {
   "cell_type": "markdown",
   "metadata": {},
   "source": [
    "<b>Injecteren in datawarehouse</b>"
   ]
  },
  {
   "cell_type": "code",
   "execution_count": null,
   "metadata": {},
   "outputs": [],
   "source": [
    "staff_sales_staff = pd.merge(s_sales_staff, pd.merge(staff_sales_branch, sales_country, how='left', left_on='COUNTRY_CODE', right_on='COUNTRY_CODE'), how='left', left_on='SALES_BRANCH_CODE', right_on='SALES_BRANCH_CODE')\n",
    "staff_sales_staff.drop(columns=['TRIAL633_x', 'TRIAL633_y', 'TRIAL879'])\n",
    "\n",
    "for index, row in staff_sales_staff.iterrows():\n",
    "    try:\n",
    "        query = f\"INSERT INTO STAFF_SALES_STAFF VALUES ({row['SALES_STAFF_CODE']}, '{row['FIRST_NAME']}', '{row['LAST_NAME']}', '{row['POSITION_EN']}', '{row['WORK_PHONE']}', '{row['EXTENSION']}', '{row['FAX']}', '{row['EMAIL']}', '{row['DATE_HIRED']}', {row['SALES_BRANCH_CODE']}, '{row['MANAGER_CODE']}', '{row['ADDRESS1']}', '{row['ADDRESS2']}', '{row['CITY']}', '{row['REGION']}', '{row['POSTAL_ZONE']}', {row['COUNTRY_CODE']}, '{row['COUNTRY']}', '{row['LANGUAGE']}', '{row['CURRENCY_NAME']}')\"\n",
    "        cursor.execute(query)\n",
    "    except pypyodbc.Error as e:\n",
    "        print(f\"Error inserting row {index}: {e}\")\n",
    "\n",
    "export_conn.commit()\n",
    "cursor.close()"
   ]
  },
  {
   "cell_type": "markdown",
   "metadata": {},
   "source": [
    "<b>Suggeraatsleutel en timestamp toevoegen</b>"
   ]
  },
  {
   "cell_type": "code",
   "execution_count": 24,
   "metadata": {},
   "outputs": [],
   "source": [
    "try:\n",
    "    query = f\"ALTER TABLE staff_sales_staff ADD SK_date INT IDENTITY(1,1) NOT NULL PRIMARY KEY, Timestamp DATETIME NOT NULL DEFAULT(GETDATE())\"\n",
    "    cursor.execute(query)\n",
    "except pypyodbc.Error as e:\n",
    "    print(f\"Error inserting row {index}: {e}\")\n",
    "\n",
    "export_conn.commit()\n"
   ]
  },
  {
   "cell_type": "markdown",
   "metadata": {},
   "source": [
    "<h2>Satisfaction_type</h2>"
   ]
  },
  {
   "cell_type": "markdown",
   "metadata": {},
   "source": [
    "<b>Injecteren in datawarehouse</b>"
   ]
  },
  {
   "cell_type": "code",
   "execution_count": 123,
   "metadata": {},
   "outputs": [],
   "source": [
    "satisfaction_type.drop(columns='TRIAL633')\n",
    "\n",
    "for index, row in satisfaction_type.iterrows():\n",
    "    try:\n",
    "        query = f\"INSERT INTO SATISFACTION_TYPE VALUES ({row['SATISFACTION_TYPE_CODE']}, '{row['SATISFACTION_TYPE_DESCRIPTION']}')\"\n",
    "        cursor.execute(query)\n",
    "    except pypyodbc.Error as e:\n",
    "        print(f\"Error inserting row {index}: {e}\")\n",
    "\n",
    "export_conn.commit()\n",
    "cursor.close()"
   ]
  },
  {
   "cell_type": "markdown",
   "metadata": {},
   "source": [
    "<b>Suggeraatsleutel en timestamp toevoegen</b>"
   ]
  },
  {
   "cell_type": "code",
   "execution_count": 25,
   "metadata": {},
   "outputs": [],
   "source": [
    "try:\n",
    "    query = f\"ALTER TABLE satisfaction_type ADD SK_date INT IDENTITY(1,1) NOT NULL PRIMARY KEY, Timestamp DATETIME NOT NULL DEFAULT(GETDATE())\"\n",
    "    cursor.execute(query)\n",
    "except pypyodbc.Error as e:\n",
    "    print(f\"Error inserting row {index}: {e}\")\n",
    "\n",
    "export_conn.commit()"
   ]
  },
  {
   "cell_type": "markdown",
   "metadata": {},
   "source": [
    "<h2>Retailer</h2>"
   ]
  },
  {
   "cell_type": "code",
   "execution_count": null,
   "metadata": {},
   "outputs": [],
   "source": [
    "retailer = pd.merge(pd.merge(crm_retailer, retailer_type, how='left', left_on='RETAILER_TYPE_CODE', right_on='RETAILER_TYPE_CODE'), pd.merge(retailer_headquarters, retailer_segment, how='left', left_on='SEGMENT_CODE', right_on='SEGMENT_CODE'), how='left', left_on='RETAILER_CODEMR', right_on='RETAILER_CODEMR')\n",
    "retailer.drop(columns=['TRIAL219', 'TRIAL222', 'TRIAL222_x', 'TRIAL222_y'])\n",
    "\n",
    "for index, row in retailer.iterrows():\n",
    "    try:\n",
    "        query = f\"INSERT INTO RETAILER VALUES ({row['RETAILER_CODE']}, '{row['RETAILER_CODEMR']}', '{row['COMPANY_NAME']}', {row['RETAILER_TYPE_CODE']}, '{row['RETAILER_TYPE_EN']}', '{row['RETAILER_NAME']}', '{row['ADDRESS1']}', '{row['ADDRESS2']}', '{row['CITY']}', '{row['REGION']}', '{row['POSTAL_ZONE']}', '{row['COUNTRY_CODE']}', '{row['PHONE']}', '{row['FAX']}', '{row['SEGMENT_CODE']}', '{row['LANGUAGE']}', '{row['SEGMENT_NAME']}', '{row['SEGMENT_DESCRIPTION']}')\"\n",
    "        cursor.execute(query)\n",
    "    except pypyodbc.Error as e:\n",
    "        print(f\"Error inserting row {index}: {e}\")\n",
    "\n",
    "export_conn.commit()\n",
    "cursor.close()"
   ]
  },
  {
   "cell_type": "markdown",
   "metadata": {},
   "source": [
    "<b>Suggeraatsleutel en timestamp toevoegen</b>"
   ]
  },
  {
   "cell_type": "code",
   "execution_count": 33,
   "metadata": {},
   "outputs": [],
   "source": [
    "try:\n",
    "    query = f\"ALTER TABLE retailer ADD SK_date INT IDENTITY(1,1) NOT NULL PRIMARY KEY, Timestamp DATETIME NOT NULL DEFAULT(GETDATE())\"\n",
    "    cursor.execute(query)\n",
    "except pypyodbc.Error as e:\n",
    "    print(f\"Error inserting row {index}: {e}\")\n",
    "\n",
    "export_conn.commit()"
   ]
  },
  {
   "cell_type": "markdown",
   "metadata": {},
   "source": [
    "<h2>Return_reason</h2>"
   ]
  },
  {
   "cell_type": "markdown",
   "metadata": {},
   "source": [
    "<b>Injecteren in datawarehouse</b>"
   ]
  },
  {
   "cell_type": "code",
   "execution_count": 103,
   "metadata": {},
   "outputs": [],
   "source": [
    "return_reason\n",
    "for index, row in return_reason.iterrows():\n",
    "    try:\n",
    "        query = f\"INSERT INTO RETURN_REASON VALUES ({row['RETURN_REASON_CODE']}, '{row['RETURN_DESCRIPTION_EN']}')\"\n",
    "        cursor.execute(query)\n",
    "    except pypyodbc.Error as e:\n",
    "        print(f\"Error inserting row {index}: {e}\")\n",
    "\n",
    "export_conn.commit()\n",
    "cursor.close()"
   ]
  },
  {
   "cell_type": "markdown",
   "metadata": {},
   "source": [
    "<b>Suggeraatsleutel en timestamp toevoegen</b>"
   ]
  },
  {
   "cell_type": "code",
   "execution_count": 34,
   "metadata": {},
   "outputs": [],
   "source": [
    "try:\n",
    "    query = f\"ALTER TABLE return_reason ADD SK_date INT IDENTITY(1,1) NOT NULL PRIMARY KEY, Timestamp DATETIME NOT NULL DEFAULT(GETDATE())\"\n",
    "    cursor.execute(query)\n",
    "except pypyodbc.Error as e:\n",
    "    print(f\"Error inserting row {index}: {e}\")\n",
    "\n",
    "export_conn.commit()"
   ]
  },
  {
   "cell_type": "markdown",
   "metadata": {},
   "source": [
    "<h2>Sales_Retailer_Site</h2>"
   ]
  },
  {
   "cell_type": "markdown",
   "metadata": {},
   "source": [
    "<b>Injecteren in datawarehouse</b>"
   ]
  },
  {
   "cell_type": "code",
   "execution_count": null,
   "metadata": {},
   "outputs": [],
   "source": [
    "for index, row in sales_retailer_site.iterrows():\n",
    "    try:\n",
    "        query = f\"INSERT INTO SALES_RETAILER_SITE VALUES ({row['RETAILER_SITE_CODE']}, {row['RETAILER_CODE']}, '{row['ADDRESS1']}', '{row['ADDRESS2']}', '{row['CITY']}', '{row['REGION']}', '{row['POSTAL_ZONE']}', {row['COUNTRY_CODE']}, '{row['ACTIVE_INDICATOR']}', '{row['COUNTRY']}', '{row['LANGUAGE']}', '{row['CURRENCY_NAME']}')\"\n",
    "        cursor.execute(query)\n",
    "    except pypyodbc.Error as e:\n",
    "        print(f\"Error inserting row {index}: {e}\")\n",
    "\n",
    "export_conn.commit()\n",
    "cursor.close()"
   ]
  },
  {
   "cell_type": "markdown",
   "metadata": {},
   "source": [
    "<b>Surrogaatsleutel en timestamp toevoegen</b>\n"
   ]
  },
  {
   "cell_type": "code",
   "execution_count": 63,
   "metadata": {},
   "outputs": [],
   "source": [
    "try:\n",
    "    query = \"ALTER TABLE SALES_RETAILER_SITE ADD SK_sales_retailer_site INT IDENTITY(1,1) NOT NULL PRIMARY KEY, Timestamp DATETIME NOT NULL DEFAULT(GETDATE())\"\n",
    "    cursor.execute(query)\n",
    "except pypyodbc.Error as e:\n",
    "        print(f\"Error inserting row {index}: {e}\")\n",
    "\n",
    "export_conn.commit()\n",
    "cursor.close()"
   ]
  },
  {
   "cell_type": "markdown",
   "metadata": {},
   "source": [
    "<h2>Course</h2>"
   ]
  },
  {
   "cell_type": "markdown",
   "metadata": {},
   "source": [
    "<b>Injecteren in datawarehouse</b>"
   ]
  },
  {
   "cell_type": "code",
   "execution_count": 36,
   "metadata": {},
   "outputs": [],
   "source": [
    "course.drop(columns='TRIAL633')\n",
    "course\n",
    "for index, row in course.iterrows():\n",
    "    try:\n",
    "        query = f\"INSERT INTO course VALUES ({row['COURSE_CODE']}, '{row['COURSE_DESCRIPTION']}')\"\n",
    "        cursor.execute(query)\n",
    "    except pypyodbc.Error as e:\n",
    "        print(f\"Error inserting row {index}: {e}\")\n",
    "\n",
    "export_conn.commit()\n",
    "cursor.close()\n",
    "        "
   ]
  },
  {
   "cell_type": "markdown",
   "metadata": {},
   "source": [
    "<b>Surrogaatsleutel en timestamp toevoegen</b>"
   ]
  },
  {
   "cell_type": "code",
   "execution_count": null,
   "metadata": {},
   "outputs": [],
   "source": [
    "try:\n",
    "    query = f\"ALTER TABLE course ADD SK_sales_targetdata INT IDENTITY(1,1) NOT NULL PRIMARY KEY, Timestamp DATETIME NOT NULL DEFAULT(GETDATE())\"\n",
    "    cursor.execute(query)\n",
    "except pypyodbc.Error as e:\n",
    "    print(f\"Error inserting row {index}: {e}\")\n",
    "\n",
    "export_conn.commit()"
   ]
  },
  {
   "cell_type": "markdown",
   "metadata": {},
   "source": [
    "<h2>Product</h2>"
   ]
  },
  {
   "cell_type": "markdown",
   "metadata": {},
   "source": [
    "<b>Injecteren in datawarehouse</b>"
   ]
  },
  {
   "cell_type": "code",
   "execution_count": null,
   "metadata": {},
   "outputs": [],
   "source": [
    "product = pd.merge(sales_product, pd.merge(product_type, product_line, how='left', left_on='PRODUCT_LINE_CODE', right_on='PRODUCT_LINE_CODE'), how='left', left_on='PRODUCT_TYPE_CODE', right_on='PRODUCT_TYPE_CODE')\n",
    "product\n",
    "for index, row in product.iterrows():\n",
    "    try:\n",
    "        query = f\"INSERT INTO PRODUCT VALUES ({row['PRODUCT_NUMBER']}, '{row['INTRODUCTION_DATE']}', {row['PRODUCT_TYPE_CODE']}, '{row['PRODUCTION_COST']}', '{row['MARGIN']}', '{row['PRODUCT_IMAGE']}', '{row['LANGUAGE']}', '{row['PRODUCT_NAME']}', '{row['DESCRIPTION']}', {row['PRODUCT_LINE_CODE']}, '{row['PRODUCT_TYPE_EN']}', '{row['PRODUCT_LINE_EN']}')\"\n",
    "        cursor.execute(query)\n",
    "    except pypyodbc.Error as e:\n",
    "        print(f\"Error inserting row {index}: {e}\")\n",
    "\n",
    "export_conn.commit()\n",
    "cursor.close() "
   ]
  },
  {
   "cell_type": "markdown",
   "metadata": {},
   "source": [
    "<b>Surrogaatsleutel en timestamp toevoegen</b>"
   ]
  },
  {
   "cell_type": "code",
   "execution_count": 43,
   "metadata": {},
   "outputs": [],
   "source": [
    "try:\n",
    "    query = f\"ALTER TABLE product ADD SK_sales_targetdata INT IDENTITY(1,1) NOT NULL PRIMARY KEY, Timestamp DATETIME NOT NULL DEFAULT(GETDATE())\"\n",
    "    cursor.execute(query)\n",
    "except pypyodbc.Error as e:\n",
    "    print(f\"Error inserting row {index}: {e}\")\n",
    "\n",
    "export_conn.commit()"
   ]
  },
  {
   "cell_type": "markdown",
   "metadata": {},
   "source": [
    "<h2>Order_method</h2>"
   ]
  },
  {
   "cell_type": "markdown",
   "metadata": {},
   "source": [
    "<b>Injecteer in datawarehouse</b>"
   ]
  },
  {
   "cell_type": "code",
   "execution_count": 66,
   "metadata": {},
   "outputs": [],
   "source": [
    "order_method\n",
    "\n",
    "for index, row in order_method.iterrows():\n",
    "    try:\n",
    "        query = f\"INSERT INTO ORDER_METHOD VALUES ({row['ORDER_METHOD_CODE']}, '{row['ORDER_METHOD_EN']}')\"\n",
    "        cursor.execute(query)\n",
    "    except pypyodbc.Error as e:\n",
    "        print(f\"Error inserting row {index}: {e}\")\n",
    "\n",
    "export_conn.commit()\n",
    "cursor.close() "
   ]
  },
  {
   "cell_type": "markdown",
   "metadata": {},
   "source": [
    "<b>Surrogaatsleutel en timestamp toevoegen</b>"
   ]
  },
  {
   "cell_type": "code",
   "execution_count": 44,
   "metadata": {},
   "outputs": [],
   "source": [
    "try:\n",
    "    query = f\"ALTER TABLE order_method ADD SK_sales_targetdata INT IDENTITY(1,1) NOT NULL PRIMARY KEY, Timestamp DATETIME NOT NULL DEFAULT(GETDATE())\"\n",
    "    cursor.execute(query)\n",
    "except pypyodbc.Error as e:\n",
    "    print(f\"Error inserting row {index}: {e}\")\n",
    "\n",
    "export_conn.commit()"
   ]
  },
  {
   "cell_type": "markdown",
   "metadata": {},
   "source": [
    "<h2>Sales_sales_staff</h2>"
   ]
  },
  {
   "cell_type": "markdown",
   "metadata": {},
   "source": [
    "<b>Injecteer in datawarehouse<b>"
   ]
  },
  {
   "cell_type": "code",
   "execution_count": null,
   "metadata": {},
   "outputs": [],
   "source": [
    "sales_sales_staff = pd.merge(sales_staff, pd.merge(sales_branch, sales_country, how='left', left_on='COUNTRY_CODE', right_on='COUNTRY_CODE'), how='left', left_on='SALES_BRANCH_CODE', right_on='SALES_BRANCH_CODE')\n",
    "sales_sales_staff.drop(columns=['TRIAL888_x', 'TRIAL888_y'])\n",
    "sales_sales_staff\n",
    "for index, row in sales_sales_staff.iterrows():\n",
    "    try:\n",
    "        query = f\"INSERT INTO SALES_SALES_STAFF VALUES ({row['SALES_STAFF_CODE']}, '{row['FIRST_NAME']}', '{row['LAST_NAME']}', '{row['POSITION_EN']}', '{row['WORK_PHONE']}', {row['EXTENSION']}, '{row['FAX']}', '{row['EMAIL']}', '{row['DATE_HIRED']}', {row['SALES_BRANCH_CODE']}, '{row['ADDRESS1']}', '{row['ADDRESS2']}', '{row['CITY']}', '{row['REGION']}', '{row['POSTAL_ZONE']}', {row['COUNTRY_CODE']}, '{row['COUNTRY']}', '{row['LANGUAGE']}', '{row['CURRENCY_NAME']}')\"\n",
    "        cursor.execute(query)\n",
    "    except pypyodbc.Error as e:\n",
    "        print(f\"Error inserting row {index}: {e}\")\n",
    "\n",
    "export_conn.commit()\n",
    "cursor.close()"
   ]
  },
  {
   "cell_type": "markdown",
   "metadata": {},
   "source": [
    "<b>Surrogaatsleutel en timestamp toevoegen</b>"
   ]
  },
  {
   "cell_type": "code",
   "execution_count": 45,
   "metadata": {},
   "outputs": [],
   "source": [
    "try:\n",
    "    query = f\"ALTER TABLE sales_sales_staff ADD SK_sales_targetdata INT IDENTITY(1,1) NOT NULL PRIMARY KEY, Timestamp DATETIME NOT NULL DEFAULT(GETDATE())\"\n",
    "    cursor.execute(query)\n",
    "except pypyodbc.Error as e:\n",
    "    print(f\"Error inserting row {index}: {e}\")\n",
    "\n",
    "export_conn.commit()"
   ]
  },
  {
   "cell_type": "markdown",
   "metadata": {},
   "source": [
    "<h1>Plaatsen van Feiten in datawarehouse"
   ]
  },
  {
   "cell_type": "markdown",
   "metadata": {},
   "source": [
    "<h2>Order_data</h2>"
   ]
  },
  {
   "cell_type": "markdown",
   "metadata": {},
   "source": [
    "<b>Injecteren in database</b>"
   ]
  },
  {
   "cell_type": "code",
   "execution_count": null,
   "metadata": {},
   "outputs": [],
   "source": [
    "order_data = pd.merge(order_header, pd.merge(order_details, returned_item, how='left', left_on='ORDER_DETAIL_CODE', right_on='ORDER_DETAIL_CODE'), how='left', left_on='ORDER_NUMBER', right_on='ORDER_NUMBER')\n",
    "order_data.drop(columns=['TRIAL885', 'TRIAL879', 'TRIAL888'])\n",
    "\n",
    "for index, row in order_data.iterrows():\n",
    "    try:\n",
    "        query = f\"INSERT INTO ORDER_DATA VALUES ({row['ORDER_NUMBER']}, '{row['RETAILER_NAME']}', {row['RETAILER_SITE_CODE']}, {row['RETAILER_CONTACT_CODE']}, {row['SALES_STAFF_CODE']}, {row['SALES_BRANCH_CODE']}, '{row['ORDER_DATE']}', {row['ORDER_METHOD_CODE']}, '{row['ORDER_DETAIL_CODE']}', '{row['PRODUCT_NUMBER']} '{row['QUANTITY']}', '{row['UNIT_COST']}', '{row['UNIT_PRICE']}', '{row['UNIT_SALE_PRICE']}', '{row['RETURN_CODE']}', '{row['RETURN_DATE']}', '{row['RETURN_REASON_CODE']}', '{row['RETURN_QUANTITY']}')\"\n",
    "        cursor.execute(query)\n",
    "    except pypyodbc.Error as e:\n",
    "        print(f\"Error inserting row {index}: {e}\")\n",
    "\n",
    "export_conn.commit()\n",
    "cursor.close()\n",
    "\n"
   ]
  },
  {
   "cell_type": "markdown",
   "metadata": {},
   "source": [
    "<b>Surrogaatsleutel en timestamp aanmaken</b>"
   ]
  },
  {
   "cell_type": "code",
   "execution_count": null,
   "metadata": {},
   "outputs": [],
   "source": [
    "try:\n",
    "    query = f\"ALTER TABLE ORDER_DATA ADD SK_order_data INT IDENTITY(1,1) NOT NULL PRIMARY KEY, Timestamp DATETIME NOT NULL DEFAULT(GETDATE())\"\n",
    "    cursor.execute(query)\n",
    "except pypyodbc.Error as e:\n",
    "    print(f\"Error inserting row {index}: {e}\")\n",
    "\n",
    "export_conn.commit()\n"
   ]
  },
  {
   "cell_type": "markdown",
   "metadata": {},
   "source": [
    "<h2>Sales_targetdata</h2>\n"
   ]
  },
  {
   "cell_type": "markdown",
   "metadata": {},
   "source": [
    "<b>Injecteren in database"
   ]
  },
  {
   "cell_type": "code",
   "execution_count": null,
   "metadata": {},
   "outputs": [],
   "source": [
    "sales_targetdata\n",
    "\n",
    "\n",
    "for index, row in sales_targetdata.iterrows():\n",
    "    try:\n",
    "        query = f\"INSERT INTO sales_targetdata VALUES ({row['Id']}, '{row['SALES_STAFF_CODE']}', '{row['SALES_YEAR']}', '{row['SALES_PERIOD']}', '{row['RETAILER_NAME']}', '{row['PRODUCT_NUMBER']}', '{row['SALES_TARGET']}', '{row['RETAILER_CODE']}')\"\n",
    "        cursor.execute(query)\n",
    "    except pypyodbc.Error as e:\n",
    "        print(f\"Error inserting row {index}: {e}\")\n",
    "\n",
    "export_conn.commit()\n",
    "cursor.close()"
   ]
  },
  {
   "cell_type": "markdown",
   "metadata": {},
   "source": [
    "<b>Surrogaatsleutel en timestamp aanmaken</b>"
   ]
  },
  {
   "cell_type": "code",
   "execution_count": null,
   "metadata": {},
   "outputs": [],
   "source": [
    "try:\n",
    "    query = f\"ALTER TABLE sales_targetdata ADD SK_sales_targetdata INT IDENTITY(1,1) NOT NULL PRIMARY KEY, Timestamp DATETIME NOT NULL DEFAULT(GETDATE())\"\n",
    "    cursor.execute(query)\n",
    "except pypyodbc.Error as e:\n",
    "    print(f\"Error inserting row {index}: {e}\")\n",
    "\n",
    "export_conn.commit()\n"
   ]
  },
  {
   "cell_type": "markdown",
   "metadata": {},
   "source": [
    "<h2>Date</h2>"
   ]
  },
  {
   "cell_type": "markdown",
   "metadata": {},
   "source": [
    "<b>Injecteren in datawarehouse</b>"
   ]
  },
  {
   "cell_type": "code",
   "execution_count": 48,
   "metadata": {},
   "outputs": [],
   "source": [
    "date = pd.DataFrame(columns=['DATE_YEAR','DATE_PERIOD', 'DATE_MONTH', 'DATE_DAY'])\n",
    "\n",
    "for index, row in date.iterrows():\n",
    "    try:\n",
    "        query = f\"INSERT INTO date VALUES ('{row['DATE_YEAR']}', '{row['DATE_PERIOD']}', '{row['DATE_MONTH']}', '{row['DATE_DAY']}')\"\n",
    "        cursor.execute(query)\n",
    "    except pypyodbc.Error as e:\n",
    "        print(f\"Error inserting row {index}: {e}\")\n",
    "\n",
    "export_conn.commit()\n"
   ]
  },
  {
   "cell_type": "markdown",
   "metadata": {},
   "source": [
    "<b>Surrogaatsleutel en timpstamp aanmaken</b>"
   ]
  },
  {
   "cell_type": "code",
   "execution_count": 49,
   "metadata": {},
   "outputs": [],
   "source": [
    "try:\n",
    "    query = f\"ALTER TABLE date ADD SK_date INT IDENTITY(1,1) NOT NULL PRIMARY KEY, Timestamp DATETIME NOT NULL DEFAULT(GETDATE())\"\n",
    "    cursor.execute(query)\n",
    "except pypyodbc.Error as e:\n",
    "    print(f\"Error inserting row {index}: {e}\")\n",
    "\n",
    "export_conn.commit()\n"
   ]
  },
  {
   "cell_type": "markdown",
   "metadata": {},
   "source": [
    "<h2>Training</h2>"
   ]
  },
  {
   "cell_type": "markdown",
   "metadata": {},
   "source": [
    "<b>Injecteren in datawarehouse</b>"
   ]
  },
  {
   "cell_type": "code",
   "execution_count": 33,
   "metadata": {},
   "outputs": [],
   "source": [
    "\n",
    "training.drop(columns=['TRIAL633'])\n",
    "training\n",
    "for index, row in training.iterrows():\n",
    "    try:\n",
    "        query = f\"INSERT INTO training VALUES ({row['YEAR']}, {row['SALES_STAFF_CODE']}, {row['COURSE_CODE']})\"\n",
    "        cursor.execute(query)\n",
    "    except pypyodbc.Error as e:\n",
    "        print(f\"Error inserting row {index}: {e}\")\n",
    "\n",
    "export_conn.commit()\n"
   ]
  },
  {
   "cell_type": "markdown",
   "metadata": {},
   "source": [
    "<b>Surrogaatsleutel en timestamp aanmaken</b>\n"
   ]
  },
  {
   "cell_type": "code",
   "execution_count": 50,
   "metadata": {},
   "outputs": [],
   "source": [
    "try:\n",
    "    query = f\"ALTER TABLE training ADD SK_training INT IDENTITY(1,1) NOT NULL PRIMARY KEY, Timestamp DATETIME NOT NULL DEFAULT(GETDATE())\"\n",
    "    cursor.execute(query)\n",
    "except pypyodbc.Error as e:\n",
    "    print(f\"Error inserting row {index}: {e}\")\n",
    "\n",
    "export_conn.commit()\n"
   ]
  },
  {
   "cell_type": "markdown",
   "metadata": {},
   "source": [
    "<h2>Satisfaction</h2>\n"
   ]
  },
  {
   "cell_type": "markdown",
   "metadata": {},
   "source": [
    "<b>Injectren in datawarehouse</b>"
   ]
  },
  {
   "cell_type": "code",
   "execution_count": 6,
   "metadata": {},
   "outputs": [],
   "source": [
    "\n",
    "for index, row in satisfaction.iterrows():\n",
    "    try:\n",
    "        query = f\"INSERT INTO satisfaction VALUES ('{row['YEAR']}', {row['SALES_STAFF_CODE']}, {row['SATISFACTION_TYPE_CODE']})\"\n",
    "        cursor.execute(query)\n",
    "    except pypyodbc.Error as e:\n",
    "        print(f\"Error inserting row {index}: {e}\")\n",
    "\n",
    "export_conn.commit()\n",
    "cursor.close()"
   ]
  },
  {
   "cell_type": "markdown",
   "metadata": {},
   "source": [
    "<b>Surrogaatsleutel en timestamp aanmaken</b>"
   ]
  },
  {
   "cell_type": "code",
   "execution_count": 51,
   "metadata": {},
   "outputs": [],
   "source": [
    "try:\n",
    "    query = f\"ALTER TABLE satisfaction ADD SK_satisfaction INT IDENTITY(1,1) NOT NULL PRIMARY KEY, Timestamp DATETIME NOT NULL DEFAULT(GETDATE())\"\n",
    "    cursor.execute(query)\n",
    "except pypyodbc.Error as e:\n",
    "    print(f\"Error inserting row {index}: {e}\")\n",
    "\n",
    "export_conn.commit()\n"
   ]
  },
  {
   "cell_type": "markdown",
   "metadata": {},
   "source": [
    "<h2>Go_sales_inventory_forcastdata</h2>"
   ]
  },
  {
   "cell_type": "markdown",
   "metadata": {},
   "source": [
    "<b>Injecteren in datawarehouse</b>"
   ]
  },
  {
   "cell_type": "code",
   "execution_count": 10,
   "metadata": {},
   "outputs": [],
   "source": [
    "\n",
    "\n",
    "for index, row in inventory_forecast.iterrows():\n",
    "    try:\n",
    "        query = f\"INSERT INTO GO_SALES_INVENTORY_FORECASTDATA VALUES ('{row['INVENTORY_YEAR']}', '{row['INVENTORY_MONTH']}', '{row['PRODUCT_NUMBER']}', '{row['INVENTORY_COUNT']}')\"\n",
    "        cursor.execute(query)\n",
    "    except pypyodbc.Error as e:\n",
    "        print(f\"Error inserting row {index}: {e}\")\n",
    "\n",
    "export_conn.commit()\n",
    "cursor.close()"
   ]
  },
  {
   "cell_type": "markdown",
   "metadata": {},
   "source": [
    "<b>Surrogaatsleutel en timestamp aanmaken</b>"
   ]
  },
  {
   "cell_type": "code",
   "execution_count": null,
   "metadata": {},
   "outputs": [],
   "source": [
    "\n",
    "try:\n",
    "    query = f\"ALTER TABLE GO_SALES_INVENTORY_FORECASTDATA ADD SK_GO_SALES_INVENTORY_FORECASTDATA INT IDENTITY(1,1) NOT NULL PRIMARY KEY, Timestamp DATETIME NOT NULL DEFAULT(GETDATE())\"\n",
    "    cursor.execute(query)\n",
    "except pypyodbc.Error as e:\n",
    "    print(f\"Error inserting row {index}: {e}\")\n",
    "\n",
    "export_conn.commit()\n"
   ]
  },
  {
   "cell_type": "markdown",
   "metadata": {},
   "source": [
    "<h2>Go_sales_product_forecastdata</h2>"
   ]
  },
  {
   "cell_type": "markdown",
   "metadata": {},
   "source": [
    "<b>Injecteren in datawarehouse</b>"
   ]
  },
  {
   "cell_type": "code",
   "execution_count": 15,
   "metadata": {},
   "outputs": [],
   "source": [
    "\n",
    "\n",
    "for index, row in product_forecast.iterrows():\n",
    "    try:\n",
    "        query = f\"INSERT INTO GO_SALES_PRODUCT_FORECASTDATA VALUES ('{row['PRODUCT_NUMBER']}', '{row['YEAR']}', '{row['MONTH']}', '{row['EXPECTED_VOLUME']}')\"\n",
    "        cursor.execute(query)\n",
    "    except pypyodbc.Error as e:\n",
    "        print(f\"Error inserting row {index}: {e}\")\n",
    "\n",
    "export_conn.commit()\n",
    "cursor.close()"
   ]
  },
  {
   "cell_type": "markdown",
   "metadata": {},
   "source": [
    "<b>Surrogaatsleutel en timestamp aanmaken</b>"
   ]
  },
  {
   "cell_type": "code",
   "execution_count": 21,
   "metadata": {},
   "outputs": [],
   "source": [
    "try:\n",
    "    query = f\"ALTER TABLE GO_SALES_PRODUCT_FORECASTDATA ADD SK_GO_SALES_PRODUCT_FORECASTDATA INT IDENTITY(1,1) NOT NULL PRIMARY KEY, Timestamp DATETIME NOT NULL DEFAULT(GETDATE())\"\n",
    "    cursor.execute(query)\n",
    "except pypyodbc.Error as e:\n",
    "    print(f\"Error inserting row {index}: {e}\")\n",
    "\n",
    "export_conn.commit()\n",
    "cursor.close()"
   ]
  }
 ],
 "metadata": {
  "kernelspec": {
   "display_name": "Python 3",
   "language": "python",
   "name": "python3"
  },
  "language_info": {
   "codemirror_mode": {
    "name": "ipython",
    "version": 3
   },
   "file_extension": ".py",
   "mimetype": "text/x-python",
   "name": "python",
   "nbconvert_exporter": "python",
   "pygments_lexer": "ipython3",
   "version": "3.12.1"
  }
 },
 "nbformat": 4,
 "nbformat_minor": 2
}
